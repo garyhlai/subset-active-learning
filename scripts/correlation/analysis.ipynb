{
 "cells": [
  {
   "cell_type": "code",
   "execution_count": 1,
   "metadata": {},
   "outputs": [],
   "source": [
    "import wandb"
   ]
  },
  {
   "cell_type": "code",
   "execution_count": 2,
   "metadata": {},
   "outputs": [],
   "source": [
    "api = wandb.Api()\n",
    "project=\"subset-search-gpu-opt\"\n",
    "entity=\"johnny-gary\"\n",
    "runs = api.runs(entity + \"/\" + project)"
   ]
  },
  {
   "cell_type": "code",
   "execution_count": 3,
   "metadata": {},
   "outputs": [
    {
     "data": {
      "text/plain": [
       "<Runs johnny-gary/subset-search-gpu-opt>"
      ]
     },
     "execution_count": 3,
     "metadata": {},
     "output_type": "execute_result"
    }
   ],
   "source": [
    "runs"
   ]
  },
  {
   "cell_type": "code",
   "execution_count": 6,
   "metadata": {},
   "outputs": [],
   "source": [
    "import pandas as pd"
   ]
  },
  {
   "cell_type": "code",
   "execution_count": 20,
   "metadata": {},
   "outputs": [],
   "source": [
    "summary_list, tags_list, name_list = [], [], []\n",
    "for run in runs:\n",
    "    summary_list.append(run.summary._json_dict)\n",
    "    name_list.append(run.name)\n",
    "    tags_list.append(run.tags)\n",
    "\n",
    "\n",
    "runs_df = pd.DataFrame({\n",
    "    \"SUMMARY\": summary_list,\n",
    "    \"NAME\": name_list, \n",
    "    \"TAGS\": tags_list\n",
    "    })\n"
   ]
  },
  {
   "cell_type": "code",
   "execution_count": 21,
   "metadata": {},
   "outputs": [
    {
     "data": {
      "text/html": [
       "<div>\n",
       "<style scoped>\n",
       "    .dataframe tbody tr th:only-of-type {\n",
       "        vertical-align: middle;\n",
       "    }\n",
       "\n",
       "    .dataframe tbody tr th {\n",
       "        vertical-align: top;\n",
       "    }\n",
       "\n",
       "    .dataframe thead th {\n",
       "        text-align: right;\n",
       "    }\n",
       "</style>\n",
       "<table border=\"1\" class=\"dataframe\">\n",
       "  <thead>\n",
       "    <tr style=\"text-align: right;\">\n",
       "      <th></th>\n",
       "      <th>SUMMARY</th>\n",
       "      <th>NAME</th>\n",
       "      <th>TAGS</th>\n",
       "    </tr>\n",
       "  </thead>\n",
       "  <tbody>\n",
       "    <tr>\n",
       "      <th>0</th>\n",
       "      <td>{'_timestamp': 1665376228, 'batch_size': 8, 's...</td>\n",
       "      <td>feasible-paper-64</td>\n",
       "      <td>[44, correlation, roberta-large, train_size-100]</td>\n",
       "    </tr>\n",
       "    <tr>\n",
       "      <th>1</th>\n",
       "      <td>{'loss': 0.0024962446186691523, '_step': 2110,...</td>\n",
       "      <td>hearty-elevator-63</td>\n",
       "      <td>[43, correlation, google/electra-small-discrim...</td>\n",
       "    </tr>\n",
       "    <tr>\n",
       "      <th>2</th>\n",
       "      <td>{'sst:val_acc': 0.5422343324250681, 'sst2_fina...</td>\n",
       "      <td>spring-salad-62</td>\n",
       "      <td>[43, correlation, roberta-large, train_size-100]</td>\n",
       "    </tr>\n",
       "    <tr>\n",
       "      <th>3</th>\n",
       "      <td>{'_timestamp': 1665375471, 'batch_size': 8, 's...</td>\n",
       "      <td>rich-sea-61</td>\n",
       "      <td>[42, correlation, google/electra-small-discrim...</td>\n",
       "    </tr>\n",
       "    <tr>\n",
       "      <th>4</th>\n",
       "      <td>{'_wandb': {'runtime': 429}, '_timestamp': 166...</td>\n",
       "      <td>vague-haze-60</td>\n",
       "      <td>[42, correlation, roberta-large, train_size-100]</td>\n",
       "    </tr>\n",
       "    <tr>\n",
       "      <th>...</th>\n",
       "      <td>...</td>\n",
       "      <td>...</td>\n",
       "      <td>...</td>\n",
       "    </tr>\n",
       "    <tr>\n",
       "      <th>58</th>\n",
       "      <td>{'_timestamp': 1664077525, 'sst:val_acc': 0.68...</td>\n",
       "      <td>usual-bird-5</td>\n",
       "      <td>[small_batch_8]</td>\n",
       "    </tr>\n",
       "    <tr>\n",
       "      <th>59</th>\n",
       "      <td>{'_wandb': {'runtime': 145}, '_runtime': 146, ...</td>\n",
       "      <td>sunny-surf-4</td>\n",
       "      <td>[large_batch_32]</td>\n",
       "    </tr>\n",
       "    <tr>\n",
       "      <th>60</th>\n",
       "      <td>{'_step': 1808, '_runtime': 164, '_timestamp':...</td>\n",
       "      <td>smart-plasma-3</td>\n",
       "      <td>[small_batch_8]</td>\n",
       "    </tr>\n",
       "    <tr>\n",
       "      <th>61</th>\n",
       "      <td>{'loss': 0.0001908041158458218, '_runtime': 17...</td>\n",
       "      <td>efficient-haze-2</td>\n",
       "      <td>[large_batch_32]</td>\n",
       "    </tr>\n",
       "    <tr>\n",
       "      <th>62</th>\n",
       "      <td>{'_timestamp': 1664076577, 'batch_size': 8, '_...</td>\n",
       "      <td>revived-morning-1</td>\n",
       "      <td>[small_batch_8]</td>\n",
       "    </tr>\n",
       "  </tbody>\n",
       "</table>\n",
       "<p>63 rows × 3 columns</p>\n",
       "</div>"
      ],
      "text/plain": [
       "                                              SUMMARY  ...                                               TAGS\n",
       "0   {'_timestamp': 1665376228, 'batch_size': 8, 's...  ...   [44, correlation, roberta-large, train_size-100]\n",
       "1   {'loss': 0.0024962446186691523, '_step': 2110,...  ...  [43, correlation, google/electra-small-discrim...\n",
       "2   {'sst:val_acc': 0.5422343324250681, 'sst2_fina...  ...   [43, correlation, roberta-large, train_size-100]\n",
       "3   {'_timestamp': 1665375471, 'batch_size': 8, 's...  ...  [42, correlation, google/electra-small-discrim...\n",
       "4   {'_wandb': {'runtime': 429}, '_timestamp': 166...  ...   [42, correlation, roberta-large, train_size-100]\n",
       "..                                                ...  ...                                                ...\n",
       "58  {'_timestamp': 1664077525, 'sst:val_acc': 0.68...  ...                                    [small_batch_8]\n",
       "59  {'_wandb': {'runtime': 145}, '_runtime': 146, ...  ...                                   [large_batch_32]\n",
       "60  {'_step': 1808, '_runtime': 164, '_timestamp':...  ...                                    [small_batch_8]\n",
       "61  {'loss': 0.0001908041158458218, '_runtime': 17...  ...                                   [large_batch_32]\n",
       "62  {'_timestamp': 1664076577, 'batch_size': 8, '_...  ...                                    [small_batch_8]\n",
       "\n",
       "[63 rows x 3 columns]"
      ]
     },
     "execution_count": 21,
     "metadata": {},
     "output_type": "execute_result"
    }
   ],
   "source": [
    "runs_df"
   ]
  },
  {
   "cell_type": "code",
   "execution_count": 12,
   "metadata": {},
   "outputs": [
    {
     "data": {
      "text/plain": [
       "{'loss': 0.0024962446186691523,\n",
       " '_step': 2110,\n",
       " 'run_time': 176.5,\n",
       " '_timestamp': 1665376087,\n",
       " '_wandb': {'runtime': 178},\n",
       " '_runtime': 179,\n",
       " 'batch_size': 8,\n",
       " 'sst:val_acc': 0.6457765667574932,\n",
       " 'sst2_final_test:accuracy': 0.6248868778280543,\n",
       " 'sst2_final_valid:accuracy': 0.6457765667574932}"
      ]
     },
     "execution_count": 12,
     "metadata": {},
     "output_type": "execute_result"
    }
   ],
   "source": [
    "runs_df.iloc[1].SUMMARY"
   ]
  }
 ],
 "metadata": {
  "kernelspec": {
   "display_name": "Python 3.8.13 ('subset')",
   "language": "python",
   "name": "python3"
  },
  "language_info": {
   "codemirror_mode": {
    "name": "ipython",
    "version": 3
   },
   "file_extension": ".py",
   "mimetype": "text/x-python",
   "name": "python",
   "nbconvert_exporter": "python",
   "pygments_lexer": "ipython3",
   "version": "3.8.13"
  },
  "orig_nbformat": 4,
  "vscode": {
   "interpreter": {
    "hash": "93a8110c327b3f25735ecf324002c5782191dd6b384b2003081090d3bf4c3d32"
   }
  }
 },
 "nbformat": 4,
 "nbformat_minor": 2
}
