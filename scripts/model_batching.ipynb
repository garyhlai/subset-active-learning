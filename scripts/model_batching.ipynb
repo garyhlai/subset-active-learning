{
 "cells": [
  {
   "cell_type": "code",
   "execution_count": 74,
   "metadata": {},
   "outputs": [],
   "source": [
    "import torch\n",
    "from torch import nn"
   ]
  },
  {
   "cell_type": "code",
   "execution_count": 75,
   "metadata": {},
   "outputs": [],
   "source": [
    "def batch_model(inputs, models): \n",
    "    # TODO: support more than 2 models \n",
    "    if len(inputs) != len(models):\n",
    "        raise ValueError(f\"Expected inputs to have the same length as model; got {len(inputs)} for inputs, {len(models)} for models\")\n",
    "    x1, x2 = inputs\n",
    "    zeros = torch.zeros(x1.shape)\n",
    "    row1 = torch.cat((x1, zeros), dim=1)\n",
    "    row2 = torch.cat((zeros, x2), dim=1)\n",
    "    sparsity_matrix = torch.cat((row1, row2))\n",
    "    return sparsity_matrix @ torch.cat(models)"
   ]
  },
  {
   "cell_type": "code",
   "execution_count": 76,
   "metadata": {},
   "outputs": [],
   "source": [
    "import math\n",
    "def test_batch_model():\n",
    "    x1 = torch.randn(4, 2)\n",
    "    x2 = torch.randn(4, 2)\n",
    "    model1 = torch.nn.parameter.Parameter(data=torch.empty(2, 3), requires_grad=True)\n",
    "    model2 = torch.nn.parameter.Parameter(data=torch.empty(2, 3), requires_grad=True)\n",
    "    torch.nn.init.kaiming_uniform_(model1, a=math.sqrt(5))\n",
    "    torch.nn.init.kaiming_uniform_(model2, a=math.sqrt(5))\n",
    "    output1 = x1 @ model1\n",
    "    output2 = x2 @ model2\n",
    "    result = batch_model([x1, x2], [model1, model2])\n",
    "    expected = torch.cat((output1, output2))\n",
    "    assert torch.allclose(result, expected)\n",
    "\n",
    "test_batch_model()"
   ]
  }
 ],
 "metadata": {
  "kernelspec": {
   "display_name": "Python 3.8.13 ('subset')",
   "language": "python",
   "name": "python3"
  },
  "language_info": {
   "codemirror_mode": {
    "name": "ipython",
    "version": 3
   },
   "file_extension": ".py",
   "mimetype": "text/x-python",
   "name": "python",
   "nbconvert_exporter": "python",
   "pygments_lexer": "ipython3",
   "version": "3.8.13"
  },
  "orig_nbformat": 4,
  "vscode": {
   "interpreter": {
    "hash": "93a8110c327b3f25735ecf324002c5782191dd6b384b2003081090d3bf4c3d32"
   }
  }
 },
 "nbformat": 4,
 "nbformat_minor": 2
}
