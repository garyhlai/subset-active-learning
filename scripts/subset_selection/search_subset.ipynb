{
 "cells": [
  {
   "cell_type": "code",
   "execution_count": 1,
   "metadata": {},
   "outputs": [
    {
     "data": {
      "text/plain": [
       "'\\nprocessed_ds = DataProcessor()\\n\\nsubset_trainer = SubsetTrainer(\\n                                training_args=training_args,\\n                                valid_ds=processed_ds[\"valid\"]\\n                                test_ds=processed_ds[\"test\"]\\n                                )\\n\\nsubset_searcher = SubsetSearcher(\\n                            subset_trainer=subset_trainer,\\n                            data_pool=processed_ds[]\\n                            ...subset args\\n)\\n\\nsubset_searcher.search()\\n'"
      ]
     },
     "execution_count": 1,
     "metadata": {},
     "output_type": "execute_result"
    }
   ],
   "source": [
    "\"\"\"\n",
    "processed_ds = DataProcessor()\n",
    "\n",
    "subset_trainer = SubsetTrainer(\n",
    "                                training_args=training_args,\n",
    "                                valid_ds=processed_ds[\"valid\"]\n",
    "                                test_ds=processed_ds[\"test\"]\n",
    "                                )\n",
    "\n",
    "subset_searcher = SubsetSearcher(\n",
    "                            subset_trainer=subset_trainer,\n",
    "                            data_pool=processed_ds[]\n",
    "                            ...subset args\n",
    ")\n",
    "\n",
    "subset_searcher.search()\n",
    "\"\"\""
   ]
  },
  {
   "cell_type": "code",
   "execution_count": 2,
   "metadata": {},
   "outputs": [],
   "source": [
    "%load_ext autoreload  \n",
    "%autoreload 2 "
   ]
  },
  {
   "cell_type": "code",
   "execution_count": 3,
   "metadata": {},
   "outputs": [
    {
     "name": "stderr",
     "output_type": "stream",
     "text": [
      "/Users/garylai/Dev/subset-active-learning/.venv/lib/python3.8/site-packages/tqdm/auto.py:22: TqdmWarning: IProgress not found. Please update jupyter and ipywidgets. See https://ipywidgets.readthedocs.io/en/stable/user_install.html\n",
      "  from .autonotebook import tqdm as notebook_tqdm\n"
     ]
    }
   ],
   "source": [
    "import sqlite3\n",
    "from typing import Any, Optional\n",
    "from pydantic import BaseModel, Extra, Field\n",
    "from transformers import TrainingArguments, AutoModel, AutoTokenizer, AutoModelForSequenceClassification, get_scheduler\n",
    "import numpy as np\n",
    "import json\n",
    "import datasets\n",
    "import wandb\n",
    "import torch\n",
    "from tqdm import tqdm\n",
    "from subset_active_learning.subset_selection import select"
   ]
  },
  {
   "cell_type": "code",
   "execution_count": 4,
   "metadata": {},
   "outputs": [],
   "source": [
    "training_args = select.SubsetTrainingArguments()\n",
    "searching_args = select.SubsetSearcherArguments(seed=0)"
   ]
  },
  {
   "cell_type": "code",
   "execution_count": 5,
   "metadata": {},
   "outputs": [
    {
     "name": "stderr",
     "output_type": "stream",
     "text": [
      "No config specified, defaulting to: sst/default\n",
      "Reusing dataset sst (/Users/garylai/.cache/huggingface/datasets/sst/default/1.0.0/b8a7889ef01c5d3ae8c379b84cc4080f8aad3ac2bc538701cbe0ac6416fb76ff)\n",
      "100%|██████████| 3/3 [00:00<00:00, 224.53it/s]\n",
      "Loading cached processed dataset at /Users/garylai/.cache/huggingface/datasets/sst/default/1.0.0/b8a7889ef01c5d3ae8c379b84cc4080f8aad3ac2bc538701cbe0ac6416fb76ff/cache-4d2a8e171c61da81.arrow\n",
      "100%|██████████| 1101/1101 [00:00<00:00, 1530.56ex/s]\n",
      "Loading cached processed dataset at /Users/garylai/.cache/huggingface/datasets/sst/default/1.0.0/b8a7889ef01c5d3ae8c379b84cc4080f8aad3ac2bc538701cbe0ac6416fb76ff/cache-ef19ad1c3ea49849.arrow\n",
      "Loading cached processed dataset at /Users/garylai/.cache/huggingface/datasets/sst/default/1.0.0/b8a7889ef01c5d3ae8c379b84cc4080f8aad3ac2bc538701cbe0ac6416fb76ff/cache-b4a35d41b5184e9b.arrow\n",
      "100%|██████████| 1101/1101 [00:00<00:00, 3071.34ex/s]\n",
      "Loading cached processed dataset at /Users/garylai/.cache/huggingface/datasets/sst/default/1.0.0/b8a7889ef01c5d3ae8c379b84cc4080f8aad3ac2bc538701cbe0ac6416fb76ff/cache-1c9cfbb6851641ac.arrow\n"
     ]
    }
   ],
   "source": [
    "processed_ds = select.preprocess_sst2(training_args.model_card)"
   ]
  },
  {
   "cell_type": "code",
   "execution_count": 6,
   "metadata": {},
   "outputs": [],
   "source": [
    "subset_trainer = select.SubsetTrainer(\n",
    "    params=training_args, valid_ds=processed_ds[\"validation\"], test_ds=processed_ds[\"test\"]\n",
    ")"
   ]
  },
  {
   "cell_type": "code",
   "execution_count": 7,
   "metadata": {},
   "outputs": [
    {
     "name": "stderr",
     "output_type": "stream",
     "text": [
      "Loading cached shuffled indices for dataset at /Users/garylai/.cache/huggingface/datasets/sst/default/1.0.0/b8a7889ef01c5d3ae8c379b84cc4080f8aad3ac2bc538701cbe0ac6416fb76ff/cache-c4f88b465eaa05f7.arrow\n"
     ]
    }
   ],
   "source": [
    "data_pool = processed_ds[\"train\"].shuffle(seed=searching_args.seed).select(range(searching_args.total_sample_size))"
   ]
  },
  {
   "cell_type": "code",
   "execution_count": 8,
   "metadata": {},
   "outputs": [],
   "source": [
    "subset_searcher = select.SubsetSearcher(subset_trainer=subset_trainer, params=searching_args, data_pool=data_pool)\n"
   ]
  },
  {
   "cell_type": "code",
   "execution_count": 9,
   "metadata": {},
   "outputs": [
    {
     "data": {
      "text/plain": [
       "<subset_active_learning.subset_selection.select.SubsetTrainer at 0x7ff2b3687fa0>"
      ]
     },
     "execution_count": 9,
     "metadata": {},
     "output_type": "execute_result"
    }
   ],
   "source": [
    "subset_searcher.subset_trainer"
   ]
  }
 ],
 "metadata": {
  "kernelspec": {
   "display_name": "Python 3.8.13 ('.venv': poetry)",
   "language": "python",
   "name": "python3"
  },
  "language_info": {
   "codemirror_mode": {
    "name": "ipython",
    "version": 3
   },
   "file_extension": ".py",
   "mimetype": "text/x-python",
   "name": "python",
   "nbconvert_exporter": "python",
   "pygments_lexer": "ipython3",
   "version": "3.8.13"
  },
  "orig_nbformat": 4,
  "vscode": {
   "interpreter": {
    "hash": "3e5b6cb28458d38a3a51ae1fcc17b14fe2e0ac931760af92f410b7c2c57674e6"
   }
  }
 },
 "nbformat": 4,
 "nbformat_minor": 2
}
