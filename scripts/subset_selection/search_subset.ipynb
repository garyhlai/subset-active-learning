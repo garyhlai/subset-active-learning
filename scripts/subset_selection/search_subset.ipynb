{
 "cells": [
  {
   "cell_type": "code",
   "execution_count": null,
   "metadata": {},
   "outputs": [],
   "source": [
    "\"\"\"\n",
    "processed_ds = DataProcessor()\n",
    "\n",
    "subset_trainer = SubsetTrainer(\n",
    "                                training_args=training_args,\n",
    "                                valid_ds=processed_ds[\"valid\"]\n",
    "                                test_ds=processed_ds[\"test\"]\n",
    "                                )\n",
    "\n",
    "subset_searcher = SubsetSearcher(\n",
    "                            subset_trainer=subset_trainer,\n",
    "                            ...subset args\n",
    ")\n",
    "\n",
    "subset_searcher.search()\n",
    "\"\"\""
   ]
  }
 ],
 "metadata": {
  "kernelspec": {
   "display_name": "Python 3.8.13 ('.venv': poetry)",
   "language": "python",
   "name": "python3"
  },
  "language_info": {
   "name": "python",
   "version": "3.8.13"
  },
  "orig_nbformat": 4,
  "vscode": {
   "interpreter": {
    "hash": "3e5b6cb28458d38a3a51ae1fcc17b14fe2e0ac931760af92f410b7c2c57674e6"
   }
  }
 },
 "nbformat": 4,
 "nbformat_minor": 2
}
