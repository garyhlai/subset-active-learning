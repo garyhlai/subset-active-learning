{
 "cells": [
  {
   "cell_type": "code",
   "execution_count": 1,
   "metadata": {},
   "outputs": [],
   "source": [
    "%load_ext autoreload  \n",
    "%autoreload 2 "
   ]
  },
  {
   "cell_type": "code",
   "execution_count": 2,
   "metadata": {},
   "outputs": [
    {
     "name": "stderr",
     "output_type": "stream",
     "text": [
      "2022-09-27 19:16:44.515107: W tensorflow/stream_executor/platform/default/dso_loader.cc:64] Could not load dynamic library 'libcudart.so.11.0'; dlerror: libcudart.so.11.0: cannot open shared object file: No such file or directory; LD_LIBRARY_PATH: /usr/local/cuda-10.1/lib64\n",
      "2022-09-27 19:16:44.515141: I tensorflow/stream_executor/cuda/cudart_stub.cc:29] Ignore above cudart dlerror if you do not have a GPU set up on your machine.\n"
     ]
    }
   ],
   "source": [
    "import sqlite3\n",
    "from typing import Any, Optional\n",
    "from pydantic import BaseModel, Extra, Field\n",
    "from transformers import TrainingArguments, AutoModel, AutoTokenizer, AutoModelForSequenceClassification, get_scheduler\n",
    "import numpy as np\n",
    "import json\n",
    "import datasets\n",
    "import wandb\n",
    "import torch\n",
    "from tqdm import tqdm\n",
    "import sys\n",
    "sys.path.append('../../')\n",
    "from subset_active_learning.subset_selection import select, preprocess"
   ]
  },
  {
   "cell_type": "code",
   "execution_count": 3,
   "metadata": {
    "tags": [
     "parameters"
    ]
   },
   "outputs": [],
   "source": [
    "db_path = \"./mnli.db\"\n",
    "ds_name = 'mnli'\n",
    "wandb_project = 'mnli_search'\n",
    "wandb_entity = 'johntzwei'\n",
    "seed = 0\n",
    "annealing_runs = 2000\n",
    "n_downsample = 2000\n",
    "n_search = 200\n",
    "\n",
    "model_card = \"google/electra-small-discriminator\"\n",
    "pretraining = True\n",
    "max_steps = 10000\n",
    "eval_steps = 300\n",
    "learning_rate = 1e-5\n",
    "batch_size = 8\n",
    "# adam should default to correct_bias = True\n",
    "adam_epsilon = 1e-6\n",
    "adam_beta1 = 0.9\n",
    "adam_beta2 = 0.999\n",
    "max_grad_norm = 1.0\n",
    "warmup_ratio = 0.1\n",
    "weight_decay = 0.01"
   ]
  },
  {
   "cell_type": "code",
   "execution_count": 4,
   "metadata": {},
   "outputs": [],
   "source": [
    "training_args = select.SubsetTrainingArguments(model_card=model_card,\n",
    "                                               pretraining=pretraining,\n",
    "                                               max_steps=max_steps,\n",
    "                                               eval_steps=eval_steps,\n",
    "                                               learning_rate=learning_rate,\n",
    "                                               batch_size=batch_size,\n",
    "                                               adam_epsilon=adam_epsilon,\n",
    "                                               adam_beta1=adam_beta1,\n",
    "                                               adam_beta2=adam_beta2,\n",
    "                                               max_grad_norm=max_grad_norm,\n",
    "                                               warmup_ratio=warmup_ratio,\n",
    "                                               weight_decay=weight_decay)\n",
    "searching_args = select.SubsetSearcherArguments(seed=seed, \n",
    "                                                db_path=db_path,\n",
    "                                                wandb_project=wandb_project,\n",
    "                                                wandb_entity=wandb_entity\n",
    "                                               )"
   ]
  },
  {
   "cell_type": "code",
   "execution_count": 5,
   "metadata": {},
   "outputs": [
    {
     "name": "stderr",
     "output_type": "stream",
     "text": [
      "No config specified, defaulting to: sst/default\n",
      "Reusing dataset sst (/home/johnny/.cache/huggingface/datasets/sst/default/1.0.0/b8a7889ef01c5d3ae8c379b84cc4080f8aad3ac2bc538701cbe0ac6416fb76ff)\n"
     ]
    },
    {
     "data": {
      "application/vnd.jupyter.widget-view+json": {
       "model_id": "f443a97be13c4742b0356fc65f44820e",
       "version_major": 2,
       "version_minor": 0
      },
      "text/plain": [
       "  0%|          | 0/3 [00:00<?, ?it/s]"
      ]
     },
     "metadata": {},
     "output_type": "display_data"
    },
    {
     "name": "stderr",
     "output_type": "stream",
     "text": [
      "Loading cached processed dataset at /home/johnny/.cache/huggingface/datasets/sst/default/1.0.0/b8a7889ef01c5d3ae8c379b84cc4080f8aad3ac2bc538701cbe0ac6416fb76ff/cache-5e912404f35e1845.arrow\n",
      "Loading cached processed dataset at /home/johnny/.cache/huggingface/datasets/sst/default/1.0.0/b8a7889ef01c5d3ae8c379b84cc4080f8aad3ac2bc538701cbe0ac6416fb76ff/cache-a8efe87a750447a6.arrow\n"
     ]
    },
    {
     "data": {
      "application/vnd.jupyter.widget-view+json": {
       "model_id": "6df9e5d45c1d40098c2710ff4f45cf63",
       "version_major": 2,
       "version_minor": 0
      },
      "text/plain": [
       "  0%|          | 0/2210 [00:00<?, ?ex/s]"
      ]
     },
     "metadata": {},
     "output_type": "display_data"
    },
    {
     "name": "stderr",
     "output_type": "stream",
     "text": [
      "Loading cached processed dataset at /home/johnny/.cache/huggingface/datasets/sst/default/1.0.0/b8a7889ef01c5d3ae8c379b84cc4080f8aad3ac2bc538701cbe0ac6416fb76ff/cache-abedee5dbca0c22b.arrow\n",
      "Loading cached processed dataset at /home/johnny/.cache/huggingface/datasets/sst/default/1.0.0/b8a7889ef01c5d3ae8c379b84cc4080f8aad3ac2bc538701cbe0ac6416fb76ff/cache-0e96b66df4e50237.arrow\n"
     ]
    },
    {
     "data": {
      "application/vnd.jupyter.widget-view+json": {
       "model_id": "40beccd751854ca78c7f6d02d97318de",
       "version_major": 2,
       "version_minor": 0
      },
      "text/plain": [
       "  0%|          | 0/2210 [00:00<?, ?ex/s]"
      ]
     },
     "metadata": {},
     "output_type": "display_data"
    }
   ],
   "source": [
    "processed_ds = preprocess.get_dataset(ds_name, training_args.model_card)"
   ]
  },
  {
   "cell_type": "code",
   "execution_count": 6,
   "metadata": {},
   "outputs": [],
   "source": [
    "subset_trainer = select.SubsetTrainer(\n",
    "    params=training_args, valid_ds=processed_ds[\"validation\"], test_ds=processed_ds[\"validation\"]\n",
    ")"
   ]
  },
  {
   "cell_type": "code",
   "execution_count": 7,
   "metadata": {},
   "outputs": [
    {
     "name": "stderr",
     "output_type": "stream",
     "text": [
      "Loading cached shuffled indices for dataset at /home/johnny/.cache/huggingface/datasets/sst/default/1.0.0/b8a7889ef01c5d3ae8c379b84cc4080f8aad3ac2bc538701cbe0ac6416fb76ff/cache-fdaab7755b49ddcd.arrow\n"
     ]
    }
   ],
   "source": [
    "data_pool = processed_ds[\"train\"].shuffle(seed=searching_args.seed).select(range(searching_args.data_pool_size))"
   ]
  },
  {
   "cell_type": "code",
   "execution_count": 8,
   "metadata": {},
   "outputs": [],
   "source": [
    "subset_searcher = select.SubsetSearcher(subset_trainer=subset_trainer, params=searching_args, data_pool=data_pool)"
   ]
  },
  {
   "cell_type": "code",
   "execution_count": null,
   "metadata": {},
   "outputs": [
    {
     "name": "stderr",
     "output_type": "stream",
     "text": [
      "\u001b[34m\u001b[1mwandb\u001b[0m: Currently logged in as: \u001b[33mjohntzwei\u001b[0m (use `wandb login --relogin` to force relogin)\n"
     ]
    },
    {
     "name": "stdout",
     "output_type": "stream",
     "text": [
      "huggingface/tokenizers: The current process just got forked, after parallelism has already been used. Disabling parallelism to avoid deadlocks...\n",
      "To disable this warning, you can either:\n",
      "\t- Avoid using `tokenizers` before the fork if possible\n",
      "\t- Explicitly set the environment variable TOKENIZERS_PARALLELISM=(true | false)\n",
      "huggingface/tokenizers: The current process just got forked, after parallelism has already been used. Disabling parallelism to avoid deadlocks...\n",
      "To disable this warning, you can either:\n",
      "\t- Avoid using `tokenizers` before the fork if possible\n",
      "\t- Explicitly set the environment variable TOKENIZERS_PARALLELISM=(true | false)\n",
      "huggingface/tokenizers: The current process just got forked, after parallelism has already been used. Disabling parallelism to avoid deadlocks...\n",
      "To disable this warning, you can either:\n",
      "\t- Avoid using `tokenizers` before the fork if possible\n",
      "\t- Explicitly set the environment variable TOKENIZERS_PARALLELISM=(true | false)\n"
     ]
    },
    {
     "name": "stderr",
     "output_type": "stream",
     "text": [
      "\u001b[34m\u001b[1mwandb\u001b[0m: wandb version 0.13.3 is available!  To upgrade, please run:\n",
      "\u001b[34m\u001b[1mwandb\u001b[0m:  $ pip install wandb --upgrade\n",
      "2022-09-27 19:16:57.819372: W tensorflow/stream_executor/platform/default/dso_loader.cc:64] Could not load dynamic library 'libcudart.so.11.0'; dlerror: libcudart.so.11.0: cannot open shared object file: No such file or directory; LD_LIBRARY_PATH: /usr/local/cuda-10.1/lib64\n",
      "2022-09-27 19:16:57.819418: I tensorflow/stream_executor/cuda/cudart_stub.cc:29] Ignore above cudart dlerror if you do not have a GPU set up on your machine.\n"
     ]
    },
    {
     "data": {
      "text/html": [
       "\n",
       "                    Syncing run <strong><a href=\"https://wandb.ai/johntzwei/mnli_search/runs/34k0erxi\" target=\"_blank\">ethereal-surf-1</a></strong> to <a href=\"https://wandb.ai/johntzwei/mnli_search\" target=\"_blank\">Weights & Biases</a> (<a href=\"https://docs.wandb.com/integrations/jupyter.html\" target=\"_blank\">docs</a>).<br/>\n",
       "\n",
       "                "
      ],
      "text/plain": [
       "<IPython.core.display.HTML object>"
      ]
     },
     "metadata": {},
     "output_type": "display_data"
    },
    {
     "name": "stderr",
     "output_type": "stream",
     "text": [
      "Some weights of the model checkpoint at google/electra-small-discriminator were not used when initializing ElectraForSequenceClassification: ['discriminator_predictions.dense_prediction.bias', 'discriminator_predictions.dense.weight', 'discriminator_predictions.dense.bias', 'discriminator_predictions.dense_prediction.weight']\n",
      "- This IS expected if you are initializing ElectraForSequenceClassification from the checkpoint of a model trained on another task or with another architecture (e.g. initializing a BertForSequenceClassification model from a BertForPreTraining model).\n",
      "- This IS NOT expected if you are initializing ElectraForSequenceClassification from the checkpoint of a model that you expect to be exactly identical (initializing a BertForSequenceClassification model from a BertForSequenceClassification model).\n",
      "Some weights of ElectraForSequenceClassification were not initialized from the model checkpoint at google/electra-small-discriminator and are newly initialized: ['classifier.out_proj.weight', 'classifier.dense.weight', 'classifier.out_proj.bias', 'classifier.dense.bias']\n",
      "You should probably TRAIN this model on a down-stream task to be able to use it for predictions and inference.\n",
      "Epoch: 23, Avg batch loss: 0.00:   3%|▎         | 300/10000 [00:22<11:58, 13.50it/s]\n",
      "  0%|          | 0/138 [00:00<?, ?it/s]\u001b[A\n",
      "  5%|▌         | 7/138 [00:00<00:02, 61.45it/s]\u001b[A\n",
      " 10%|█         | 14/138 [00:00<00:02, 61.88it/s]\u001b[A\n",
      " 15%|█▌        | 21/138 [00:00<00:01, 61.47it/s]\u001b[A\n",
      " 20%|██        | 28/138 [00:00<00:01, 61.79it/s]\u001b[A\n",
      " 25%|██▌       | 35/138 [00:00<00:01, 62.01it/s]\u001b[A\n",
      " 30%|███       | 42/138 [00:00<00:01, 62.21it/s]\u001b[A\n",
      " 36%|███▌      | 50/138 [00:00<00:01, 65.53it/s]\u001b[A\n",
      " 42%|████▏     | 58/138 [00:00<00:01, 68.12it/s]\u001b[A\n",
      " 48%|████▊     | 66/138 [00:01<00:01, 69.87it/s]\u001b[A\n",
      " 54%|█████▎    | 74/138 [00:01<00:00, 70.66it/s]\u001b[A\n",
      " 59%|█████▉    | 82/138 [00:01<00:00, 71.62it/s]\u001b[A\n",
      " 65%|██████▌   | 90/138 [00:01<00:00, 72.19it/s]\u001b[A\n",
      " 71%|███████   | 98/138 [00:01<00:00, 72.95it/s]\u001b[A\n",
      " 77%|███████▋  | 106/138 [00:01<00:00, 66.30it/s]\u001b[A\n",
      " 82%|████████▏ | 113/138 [00:01<00:00, 58.20it/s]\u001b[A\n",
      " 87%|████████▋ | 120/138 [00:01<00:00, 55.89it/s]\u001b[A\n",
      " 93%|█████████▎| 128/138 [00:01<00:00, 60.70it/s]\u001b[A\n",
      " 99%|█████████▊| 136/138 [00:02<00:00, 64.40it/s]\u001b[A\n",
      "Acc: 0.53: 100%|██████████| 138/138 [00:02<00:00, 64.08it/s]\u001b[A\n",
      "Epoch: 46, Avg batch loss: 0.00:   6%|▌         | 600/10000 [00:46<11:26, 13.70it/s]  \n",
      "  0%|          | 0/138 [00:00<?, ?it/s]\u001b[A\n",
      "  3%|▎         | 4/138 [00:00<00:03, 35.13it/s]\u001b[A\n",
      "  7%|▋         | 9/138 [00:00<00:02, 43.16it/s]\u001b[A\n",
      " 12%|█▏        | 16/138 [00:00<00:02, 52.19it/s]\u001b[A\n",
      " 17%|█▋        | 23/138 [00:00<00:02, 56.37it/s]\u001b[A\n",
      " 22%|██▏       | 30/138 [00:00<00:01, 60.93it/s]\u001b[A\n",
      " 28%|██▊       | 38/138 [00:00<00:01, 65.51it/s]\u001b[A\n",
      " 33%|███▎      | 46/138 [00:00<00:01, 68.30it/s]\u001b[A\n",
      " 39%|███▉      | 54/138 [00:00<00:01, 70.14it/s]\u001b[A\n",
      " 45%|████▍     | 62/138 [00:00<00:01, 71.36it/s]\u001b[A\n",
      " 51%|█████     | 70/138 [00:01<00:00, 71.98it/s]\u001b[A\n",
      " 57%|█████▋    | 78/138 [00:01<00:00, 72.50it/s]\u001b[A\n",
      " 62%|██████▏   | 86/138 [00:01<00:00, 72.60it/s]\u001b[A\n",
      " 68%|██████▊   | 94/138 [00:01<00:00, 72.92it/s]\u001b[A\n",
      " 74%|███████▍  | 102/138 [00:01<00:00, 73.33it/s]\u001b[A\n",
      " 80%|███████▉  | 110/138 [00:01<00:00, 73.41it/s]\u001b[A\n",
      " 86%|████████▌ | 118/138 [00:01<00:00, 73.61it/s]\u001b[A\n",
      " 91%|█████████▏| 126/138 [00:01<00:00, 73.68it/s]\u001b[A\n",
      " 97%|█████████▋| 134/138 [00:01<00:00, 73.81it/s]\u001b[A\n",
      "Acc: 0.61: 100%|██████████| 138/138 [00:02<00:00, 67.66it/s]\u001b[A\n",
      "Epoch: 69, Avg batch loss: 0.00:   9%|▉         | 899/10000 [01:10<10:31, 14.40it/s]\n",
      "  0%|          | 0/138 [00:00<?, ?it/s]\u001b[A\n",
      "  5%|▌         | 7/138 [00:00<00:02, 62.39it/s]\u001b[A\n",
      " 10%|█         | 14/138 [00:00<00:02, 61.61it/s]\u001b[A\n",
      " 15%|█▌        | 21/138 [00:00<00:01, 62.20it/s]\u001b[A\n",
      " 20%|██        | 28/138 [00:00<00:01, 62.16it/s]\u001b[A\n",
      " 25%|██▌       | 35/138 [00:00<00:01, 62.36it/s]\u001b[A\n",
      " 30%|███       | 42/138 [00:00<00:01, 62.59it/s]\u001b[A\n",
      " 36%|███▌      | 49/138 [00:00<00:01, 62.88it/s]\u001b[A\n",
      " 41%|████▏     | 57/138 [00:00<00:01, 66.41it/s]\u001b[A\n",
      " 47%|████▋     | 65/138 [00:00<00:01, 68.90it/s]\u001b[A\n",
      " 53%|█████▎    | 73/138 [00:01<00:00, 69.91it/s]\u001b[A\n",
      " 58%|█████▊    | 80/138 [00:01<00:00, 59.76it/s]\u001b[A\n",
      " 63%|██████▎   | 87/138 [00:01<00:00, 61.74it/s]\u001b[A\n",
      " 69%|██████▉   | 95/138 [00:01<00:00, 65.06it/s]\u001b[A\n",
      " 75%|███████▍  | 103/138 [00:01<00:00, 67.65it/s]\u001b[A\n",
      " 80%|████████  | 111/138 [00:01<00:00, 69.24it/s]\u001b[A\n",
      " 86%|████████▌ | 119/138 [00:01<00:00, 70.19it/s]\u001b[A\n",
      " 92%|█████████▏| 127/138 [00:01<00:00, 71.32it/s]\u001b[A\n",
      " 98%|█████████▊| 135/138 [00:02<00:00, 72.25it/s]\u001b[A\n",
      "Acc: 0.68: 100%|██████████| 138/138 [00:02<00:00, 66.34it/s]\u001b[A\n",
      "Epoch: 92, Avg batch loss: 0.00:  12%|█▏        | 1199/10000 [01:33<09:45, 15.02it/s]\n",
      "  0%|          | 0/138 [00:00<?, ?it/s]\u001b[A\n",
      "  5%|▌         | 7/138 [00:00<00:02, 62.46it/s]\u001b[A\n",
      " 10%|█         | 14/138 [00:00<00:01, 62.25it/s]\u001b[A\n",
      " 15%|█▌        | 21/138 [00:00<00:01, 62.21it/s]\u001b[A\n",
      " 20%|██        | 28/138 [00:00<00:01, 65.05it/s]\u001b[A\n",
      " 26%|██▌       | 36/138 [00:00<00:01, 67.65it/s]\u001b[A\n",
      " 31%|███       | 43/138 [00:00<00:01, 57.75it/s]\u001b[A\n",
      " 36%|███▌      | 50/138 [00:00<00:01, 60.29it/s]\u001b[A\n",
      " 42%|████▏     | 58/138 [00:00<00:01, 64.36it/s]\u001b[A\n",
      " 48%|████▊     | 66/138 [00:01<00:01, 67.21it/s]\u001b[A\n",
      " 54%|█████▎    | 74/138 [00:01<00:00, 69.26it/s]\u001b[A\n",
      " 59%|█████▉    | 82/138 [00:01<00:00, 70.67it/s]\u001b[A\n",
      " 65%|██████▌   | 90/138 [00:01<00:00, 71.61it/s]\u001b[A\n",
      " 71%|███████   | 98/138 [00:01<00:00, 72.14it/s]\u001b[A\n",
      " 77%|███████▋  | 106/138 [00:01<00:00, 71.90it/s]\u001b[A\n",
      " 83%|████████▎ | 114/138 [00:01<00:00, 72.38it/s]\u001b[A\n",
      " 88%|████████▊ | 122/138 [00:01<00:00, 72.83it/s]\u001b[A\n",
      " 94%|█████████▍| 130/138 [00:01<00:00, 73.08it/s]\u001b[A\n",
      "100%|██████████| 138/138 [00:02<00:00, 73.63it/s]\u001b[A\n",
      "Acc: 0.68: 100%|██████████| 138/138 [00:02<00:00, 68.18it/s]\u001b[A\n",
      "Epoch: 115, Avg batch loss: 0.00:  15%|█▍        | 1499/10000 [01:56<11:30, 12.30it/s]\n",
      "  0%|          | 0/138 [00:00<?, ?it/s]\u001b[A\n",
      "  5%|▌         | 7/138 [00:00<00:02, 62.05it/s]\u001b[A\n",
      " 10%|█         | 14/138 [00:00<00:01, 62.29it/s]\u001b[A\n",
      " 15%|█▌        | 21/138 [00:00<00:01, 63.05it/s]\u001b[A\n",
      " 21%|██        | 29/138 [00:00<00:01, 66.96it/s]\u001b[A\n",
      " 27%|██▋       | 37/138 [00:00<00:01, 69.59it/s]\u001b[A\n",
      " 33%|███▎      | 45/138 [00:00<00:01, 70.91it/s]\u001b[A\n",
      " 38%|███▊      | 53/138 [00:00<00:01, 72.04it/s]\u001b[A\n",
      " 44%|████▍     | 61/138 [00:00<00:01, 72.51it/s]\u001b[A\n",
      " 50%|█████     | 69/138 [00:00<00:00, 73.02it/s]\u001b[A\n",
      " 56%|█████▌    | 77/138 [00:01<00:00, 73.27it/s]\u001b[A\n",
      " 62%|██████▏   | 85/138 [00:01<00:00, 73.34it/s]\u001b[A\n",
      " 67%|██████▋   | 93/138 [00:01<00:00, 73.49it/s]\u001b[A\n",
      " 73%|███████▎  | 101/138 [00:01<00:00, 73.52it/s]\u001b[A\n",
      " 79%|███████▉  | 109/138 [00:01<00:00, 73.26it/s]\u001b[A\n",
      " 85%|████████▍ | 117/138 [00:01<00:00, 73.31it/s]\u001b[A\n",
      " 91%|█████████ | 125/138 [00:01<00:00, 73.52it/s]\u001b[A\n",
      " 96%|█████████▋| 133/138 [00:01<00:00, 73.54it/s]\u001b[A\n",
      "Acc: 0.69: 100%|██████████| 138/138 [00:01<00:00, 70.87it/s]\u001b[A\n",
      "Epoch: 134, Avg batch loss: 0.00:  17%|█▋        | 1732/10000 [02:14<10:33, 13.05it/s]"
     ]
    }
   ],
   "source": [
    "subset_searcher.search_til_manual_termination()"
   ]
  },
  {
   "cell_type": "code",
   "execution_count": null,
   "metadata": {},
   "outputs": [],
   "source": [
    "from subset_active_learning.active_learning.subset_classifier import get_df_from_db\n",
    "df = get_df_from_db(DB_PATH); df"
   ]
  }
 ],
 "metadata": {
  "celltoolbar": "Tags",
  "kernelspec": {
   "display_name": "Python 3 (ipykernel)",
   "language": "python",
   "name": "python3"
  },
  "language_info": {
   "codemirror_mode": {
    "name": "ipython",
    "version": 3
   },
   "file_extension": ".py",
   "mimetype": "text/x-python",
   "name": "python",
   "nbconvert_exporter": "python",
   "pygments_lexer": "ipython3",
   "version": "3.8.11"
  },
  "vscode": {
   "interpreter": {
    "hash": "3e5b6cb28458d38a3a51ae1fcc17b14fe2e0ac931760af92f410b7c2c57674e6"
   }
  }
 },
 "nbformat": 4,
 "nbformat_minor": 2
}
