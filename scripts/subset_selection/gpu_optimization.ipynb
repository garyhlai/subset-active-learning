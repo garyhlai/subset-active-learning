{
 "cells": [
  {
   "cell_type": "code",
   "execution_count": null,
   "metadata": {},
   "outputs": [],
   "source": [
    "%load_ext autoreload  \n",
    "%autoreload 2 "
   ]
  },
  {
   "cell_type": "code",
   "execution_count": null,
   "metadata": {},
   "outputs": [],
   "source": [
    "import ffcv\n",
    "from ffcv.writer import DatasetWriter\n",
    "from ffcv.fields import IntField, NDArrayField, FloatField\n",
    "import datasets\n",
    "from subset_active_learning.subset_selection import select, preprocess\n",
    "import wandb\n",
    "import numpy as np\n",
    "import torch"
   ]
  },
  {
   "cell_type": "code",
   "execution_count": null,
   "metadata": {},
   "outputs": [],
   "source": [
    "import psutil\n",
    "\n",
    "# Process.memory_info is expressed in bytes, so convert to megabytes\n",
    "print(f\"RAM used: {psutil.Process().memory_info().rss / (1024 * 1024):.2f} MB\")"
   ]
  },
  {
   "cell_type": "code",
   "execution_count": null,
   "metadata": {},
   "outputs": [],
   "source": [
    "processed_ds = preprocess.preprocess_sst2(\"google/electra-small-discriminator\")"
   ]
  },
  {
   "cell_type": "code",
   "execution_count": null,
   "metadata": {},
   "outputs": [],
   "source": [
    "# Process.memory_info is expressed in bytes, so convert to megabytes\n",
    "print(f\"RAM used: {psutil.Process().memory_info().rss / (1024 * 1024):.2f} MB\")"
   ]
  },
  {
   "cell_type": "code",
   "execution_count": null,
   "metadata": {},
   "outputs": [],
   "source": [
    "# Convert HF dataset into Torch dataset for ffcv support\n",
    "class InMemorySST2(torch.utils.data.Dataset):\n",
    "    def __init__(self, hf_ds):\n",
    "        self.in_memory_ds = []\n",
    "        for row in hf_ds: \n",
    "            self.in_memory_ds.append(row)\n",
    "    \n",
    "    def __getitem__(self, i):\n",
    "        return self.in_memory_ds[i]\n",
    "    \n",
    "    def __len__(self):\n",
    "        return len(self.in_memory_ds)"
   ]
  },
  {
   "cell_type": "code",
   "execution_count": null,
   "metadata": {},
   "outputs": [],
   "source": [
    "# Process.memory_info is expressed in bytes, so convert to megabytes\n",
    "print(f\"RAM used: {psutil.Process().memory_info().rss / (1024 * 1024):.2f} MB\")"
   ]
  },
  {
   "cell_type": "code",
   "execution_count": null,
   "metadata": {},
   "outputs": [],
   "source": [
    "train_ds = InMemorySST2(hf_ds=processed_ds[\"train\"])"
   ]
  },
  {
   "cell_type": "code",
   "execution_count": null,
   "metadata": {},
   "outputs": [],
   "source": [
    "# Process.memory_info is expressed in bytes, so convert to megabytes\n",
    "print(f\"RAM used: {psutil.Process().memory_info().rss / (1024 * 1024):.2f} MB\")"
   ]
  },
  {
   "cell_type": "code",
   "execution_count": null,
   "metadata": {},
   "outputs": [],
   "source": [
    "valid_ds = InMemorySST2(hf_ds=processed_ds[\"validation\"])"
   ]
  },
  {
   "cell_type": "code",
   "execution_count": null,
   "metadata": {},
   "outputs": [],
   "source": [
    "# Process.memory_info is expressed in bytes, so convert to megabytes\n",
    "print(f\"RAM used: {psutil.Process().memory_info().rss / (1024 * 1024):.2f} MB\")"
   ]
  },
  {
   "cell_type": "code",
   "execution_count": null,
   "metadata": {},
   "outputs": [],
   "source": [
    "test_ds = InMemorySST2(hf_ds=processed_ds[\"test\"])"
   ]
  },
  {
   "cell_type": "code",
   "execution_count": null,
   "metadata": {},
   "outputs": [],
   "source": [
    "# Process.memory_info is expressed in bytes, so convert to megabytes\n",
    "print(f\"RAM used: {psutil.Process().memory_info().rss / (1024 * 1024):.2f} MB\")"
   ]
  },
  {
   "cell_type": "code",
   "execution_count": null,
   "metadata": {},
   "outputs": [],
   "source": [
    "import time\n",
    "\n",
    "\n",
    "class BatchSizeComparisonRun: \n",
    "    def __init__(self, train_ds: datasets.Dataset, valid_ds: datasets.Dataset, test_ds: datasets.Dataset, seed: int):\n",
    "        self.train_ds,self.valid_ds,self.test_ds = train_ds,valid_ds,test_ds\n",
    "        self.seed = seed\n",
    "\n",
    "    def one_run(self, wandb_tag: str, config: select.SubsetTrainingArguments):\n",
    "        wandb_run = wandb.init(project=\"subset-search-gpu-opt\", entity=\"johnny-gary\", tags=[wandb_tag, self.seed])\n",
    "        wandb.log({\"batch_size\": config.batch_size})\n",
    "        subset_trainer = select.SubsetTrainer(\n",
    "            params=config, valid_ds=self.valid_ds, test_ds=self.test_ds\n",
    "        )\n",
    "        start_time = time.time()\n",
    "        subset_trainer.train_one_step(subset=self.train_ds, calculate_test_accuracy=True)\n",
    "        wandb.log({\"run_time\": round(time.time() - start_time, 2)})\n",
    "        wandb_run.finish()\n",
    "\n",
    "    def run_comparison(self, small_batch_config: select.SubsetTrainingArguments, large_batch_config: select.SubsetTrainingArguments): \n",
    "        \"\"\"\n",
    "        - train small batch size until early stopping\n",
    "        - train large batch size until early stopping\n",
    "        \"\"\"\n",
    "        self.one_run(wandb_tag=f\"small_batch_{small_batch_config.batch_size}\", config=small_batch_config)\n",
    "        self.one_run(wandb_tag=f\"large_batch_{large_batch_config.batch_size}\", config=large_batch_config)"
   ]
  },
  {
   "cell_type": "code",
   "execution_count": null,
   "metadata": {},
   "outputs": [],
   "source": [
    "############# In Memory Experiments ###############\n",
    "\n",
    "for seed in range(42, 47):\n",
    "    train_ds = processed_ds[\"train\"].shuffle(seed=seed).select(range(100))\n",
    "    batch_size_comparison = BatchSizeComparisonRun(train_ds=train_ds, valid_ds=processed_ds[\"validation\"], test_ds=processed_ds[\"test\"], seed=seed)\n",
    "    batch_size_comparison.on_run"
   ]
  },
  {
   "cell_type": "code",
   "execution_count": null,
   "metadata": {},
   "outputs": [],
   "source": [
    "INCREASE_FACTOR = 4\n",
    "small_batch_config = select.SubsetTrainingArguments(batch_size=8, learning_rate=1e-5)\n",
    "large_batch_config = select.SubsetTrainingArguments(batch_size=small_batch_config.batch_size*INCREASE_FACTOR, learning_rate=small_batch_config.learning_rate*(3/4))"
   ]
  },
  {
   "cell_type": "code",
   "execution_count": null,
   "metadata": {},
   "outputs": [],
   "source": [
    "for seed in range(42, 47):\n",
    "    train_ds = processed_ds[\"train\"].shuffle(seed=seed).select(range(100))\n",
    "    batch_size_comparison = BatchSizeComparisonRun(train_ds=train_ds, valid_ds=processed_ds[\"validation\"], test_ds=processed_ds[\"test\"])\n",
    "    batch_size_comparison.run_comparison(small_batch_config=small_batch_config, large_batch_config=large_batch_config)"
   ]
  }
 ],
 "metadata": {
  "kernelspec": {
   "display_name": "Python 3.9.13 ('ffcv')",
   "language": "python",
   "name": "python3"
  },
  "language_info": {
   "codemirror_mode": {
    "name": "ipython",
    "version": 3
   },
   "file_extension": ".py",
   "mimetype": "text/x-python",
   "name": "python",
   "nbconvert_exporter": "python",
   "pygments_lexer": "ipython3",
   "version": "3.9.13"
  },
  "orig_nbformat": 4,
  "vscode": {
   "interpreter": {
    "hash": "a5a369980de5afa77dbc9af21c188db1feaa0541138845d75ffa63a1e0dd1c07"
   }
  }
 },
 "nbformat": 4,
 "nbformat_minor": 2
}
