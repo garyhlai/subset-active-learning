{
 "cells": [
  {
   "cell_type": "code",
   "execution_count": 1,
   "id": "2358595c",
   "metadata": {
    "scrolled": false
   },
   "outputs": [
    {
     "name": "stderr",
     "output_type": "stream",
     "text": [
      "/home/glai/anaconda3/envs/subset/lib/python3.8/site-packages/tqdm/auto.py:22: TqdmWarning: IProgress not found. Please update jupyter and ipywidgets. See https://ipywidgets.readthedocs.io/en/stable/user_install.html\n",
      "  from .autonotebook import tqdm as notebook_tqdm\n"
     ]
    }
   ],
   "source": [
    "import os\n",
    "import sqlite3\n",
    "import json\n",
    "import random\n",
    "import seaborn as sns\n",
    "sns.set()\n",
    "from tqdm.notebook import tqdm\n",
    "\n",
    "import torch\n",
    "import numpy as np\n",
    "import datasets\n",
    "import transformers\n",
    "import wandb\n",
    "from transformers import AutoTokenizer, AutoModelForSequenceClassification, AutoConfig\n",
    "from transformers import TrainingArguments, Trainer, EarlyStoppingCallback, DataCollator"
   ]
  },
  {
   "cell_type": "code",
   "execution_count": 29,
   "id": "44df8580",
   "metadata": {},
   "outputs": [],
   "source": [
    "def get_nth_best(n, db_path):\n",
    "    try:\n",
    "        con = sqlite3.connect(db_path)\n",
    "        cur = con.cursor()\n",
    "        cur.execute(\"SELECT * FROM states ORDER BY objective DESC LIMIT 1 OFFSET %d\" % n)\n",
    "        r = cur.fetchone()\n",
    "    finally:\n",
    "        con.close()\n",
    "    return (np.array(json.loads(r[0])), r[1], r[2])\n",
    "\n",
    "\n",
    "def evaluate(model, val_dataloader, metric, device = 'cuda' if torch.cuda.is_available() else 'cpu'):\n",
    "        model.eval()\n",
    "        val_pbar = tqdm(total=len(val_dataloader))\n",
    "        for batch in val_dataloader:\n",
    "            batch = {k: v.to(device) for k, v in batch.items()}\n",
    "            with torch.no_grad():\n",
    "                outputs = model(**batch)\n",
    "            logits = outputs.logits\n",
    "            predictions = torch.argmax(logits, dim=-1)\n",
    "            metric.add_batch(predictions=predictions, references=batch[\"labels\"])\n",
    "            val_pbar.update(1)\n",
    "        eval_dict = metric.compute()\n",
    "        val_pbar.set_description('Acc: %.2f' % eval_dict['accuracy'])\n",
    "        return eval_dict"
   ]
  },
  {
   "cell_type": "code",
   "execution_count": null,
   "id": "63eeaa27",
   "metadata": {},
   "outputs": [],
   "source": [
    "############# LOAD MODEL #################\n",
    "PATH = \"/home/glai/dev/subset-active-learning/local_bucket/7000_model.pt\"\n",
    "model = torch.load(PATH)"
   ]
  },
  {
   "cell_type": "code",
   "execution_count": 91,
   "id": "7fc7c664",
   "metadata": {},
   "outputs": [
    {
     "data": {
      "application/vnd.jupyter.widget-view+json": {
       "model_id": "4996d0908566452cbf52cf5f8282cb0f",
       "version_major": 2,
       "version_minor": 0
      },
      "text/plain": [
       "  0%|          | 0/125 [00:00<?, ?it/s]"
      ]
     },
     "metadata": {},
     "output_type": "display_data"
    },
    {
     "name": "stderr",
     "output_type": "stream",
     "text": [
      "/tmp/ipykernel_30482/1429344335.py:14: UserWarning: Implicit dimension choice for softmax has been deprecated. Change the call to include dim=X as an argument.\n",
      "  batch_scores = torch.nn.Softmax()(logits)[:,-1]\n"
     ]
    }
   ],
   "source": [
    "############# GET POOL CONFIDENCE SCORES #################\n",
    "from subset_active_learning.subset_selection import preprocess\n",
    "tokenized_sst2 = preprocess.preprocess_sst2(model_card=\"roberta-base\")\n",
    "sst2_downsample = tokenized_sst2['train'].shuffle(seed=0).select(range(0, 1000))\n",
    "train_dataloader = torch.utils.data.DataLoader(sst2_downsample, shuffle=False, batch_size=8, pin_memory=True)\n",
    "pool_scores = evaluate(model, train_dataloader, score=True)['scores'].cpu().numpy()"
   ]
  },
  {
   "cell_type": "code",
   "execution_count": 154,
   "id": "c94b71b6",
   "metadata": {},
   "outputs": [],
   "source": [
    "subset_indices, preds, obj = get_nth_best(100); subset_indices"
   ]
  },
  {
   "cell_type": "code",
   "execution_count": null,
   "id": "c40968ab",
   "metadata": {},
   "outputs": [],
   "source": [
    "select_scores = pool_scores[subset_indices]"
   ]
  },
  {
   "cell_type": "code",
   "execution_count": 155,
   "id": "75894ee2",
   "metadata": {},
   "outputs": [
    {
     "data": {
      "text/plain": [
       "<AxesSubplot:ylabel='Probability'>"
      ]
     },
     "execution_count": 155,
     "metadata": {},
     "output_type": "execute_result"
    },
    {
     "data": {
      "image/png": "[encoded data removed]",
      "text/plain": [
       "<Figure size 432x288 with 1 Axes>"
      ]
     },
     "metadata": {},
     "output_type": "display_data"
    }
   ],
   "source": [
    "# sns.histplot(select_scores, stat='probability', color='blue', bins=8)\n",
    "# sns.histplot(np.random.choice(pool_scores, 100, replace=False), stat='probability', color='orange', bins=8)\n",
    "# sns.histplot(pool_scores, stat='probability', color='orange', bins=8)"
   ]
  },
  {
   "cell_type": "code",
   "execution_count": 76,
   "id": "a5cc1a11",
   "metadata": {},
   "outputs": [],
   "source": [
    "# does distribution entropy correlate with accuracy?\n",
    "# we can check with the database"
   ]
  }
 ],
 "metadata": {
  "celltoolbar": "Tags",
  "kernelspec": {
   "display_name": "Python 3.8.13 ('subset')",
   "language": "python",
   "name": "python3"
  },
  "language_info": {
   "codemirror_mode": {
    "name": "ipython",
    "version": 3
   },
   "file_extension": ".py",
   "mimetype": "text/x-python",
   "name": "python",
   "nbconvert_exporter": "python",
   "pygments_lexer": "ipython3",
   "version": "3.8.13"
  },
  "vscode": {
   "interpreter": {
    "hash": "93a8110c327b3f25735ecf324002c5782191dd6b384b2003081090d3bf4c3d32"
   }
  }
 },
 "nbformat": 4,
 "nbformat_minor": 5
}
