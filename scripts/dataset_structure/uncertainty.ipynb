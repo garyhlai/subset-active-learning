{
 "cells": [
  {
   "cell_type": "code",
   "execution_count": 1,
   "id": "2358595c",
   "metadata": {
    "scrolled": false
   },
   "outputs": [
    {
     "name": "stderr",
     "output_type": "stream",
     "text": [
      "/home/glai/anaconda3/envs/subset/lib/python3.8/site-packages/tqdm/auto.py:22: TqdmWarning: IProgress not found. Please update jupyter and ipywidgets. See https://ipywidgets.readthedocs.io/en/stable/user_install.html\n",
      "  from .autonotebook import tqdm as notebook_tqdm\n"
     ]
    }
   ],
   "source": [
    "import os\n",
    "import sqlite3\n",
    "import json\n",
    "import random\n",
    "import seaborn as sns\n",
    "sns.set()\n",
    "from tqdm.notebook import tqdm\n",
    "\n",
    "import torch\n",
    "import numpy as np\n",
    "import datasets\n",
    "import transformers\n",
    "import wandb\n",
    "from transformers import AutoTokenizer, AutoModelForSequenceClassification, AutoConfig\n",
    "from transformers import TrainingArguments, Trainer, EarlyStoppingCallback, DataCollator"
   ]
  },
  {
   "cell_type": "code",
   "execution_count": 2,
   "id": "44df8580",
   "metadata": {},
   "outputs": [],
   "source": [
    "def get_nth_best(n, db_path):\n",
    "    try:\n",
    "        con = sqlite3.connect(db_path)\n",
    "        cur = con.cursor()\n",
    "        cur.execute(\"SELECT * FROM states ORDER BY objective DESC LIMIT 1 OFFSET %d\" % n)\n",
    "        r = cur.fetchone()\n",
    "    finally:\n",
    "        con.close()\n",
    "    return (np.array(json.loads(r[0])), r[1], r[2])\n",
    "\n",
    "\n",
    "def evaluate(model, val_dataloader, metric, device = 'cuda' if torch.cuda.is_available() else 'cpu'):\n",
    "        model.eval()\n",
    "        model.to(device)\n",
    "        confidence_scores = []\n",
    "        for batch in val_dataloader:\n",
    "            batch = {k: v.to(device) for k, v in batch.items()}\n",
    "            with torch.no_grad():\n",
    "                outputs = model(**batch)\n",
    "                logits = outputs.logits\n",
    "                # get confidence scores\n",
    "                batch_scores = torch.nn.Softmax()(logits)[:,-1]\n",
    "                confidence_scores.append(batch_scores)\n",
    "                # get prediction\n",
    "                predictions = torch.argmax(logits, dim=-1)\n",
    "                metric.add_batch(predictions=predictions, references=batch[\"labels\"])\n",
    "        eval_dict = metric.compute()\n",
    "        eval_dict[\"confidence_scores\"] = torch.cat(confidence_scores)\n",
    "        return eval_dict"
   ]
  },
  {
   "cell_type": "code",
   "execution_count": 3,
   "id": "63eeaa27",
   "metadata": {},
   "outputs": [
    {
     "name": "stderr",
     "output_type": "stream",
     "text": [
      "Some weights of the model checkpoint at roberta-base were not used when initializing RobertaForSequenceClassification: ['lm_head.layer_norm.weight', 'lm_head.bias', 'lm_head.decoder.weight', 'roberta.pooler.dense.bias', 'roberta.pooler.dense.weight', 'lm_head.dense.bias', 'lm_head.dense.weight', 'lm_head.layer_norm.bias']\n",
      "- This IS expected if you are initializing RobertaForSequenceClassification from the checkpoint of a model trained on another task or with another architecture (e.g. initializing a BertForSequenceClassification model from a BertForPreTraining model).\n",
      "- This IS NOT expected if you are initializing RobertaForSequenceClassification from the checkpoint of a model that you expect to be exactly identical (initializing a BertForSequenceClassification model from a BertForSequenceClassification model).\n",
      "Some weights of RobertaForSequenceClassification were not initialized from the model checkpoint at roberta-base and are newly initialized: ['classifier.dense.weight', 'classifier.out_proj.bias', 'classifier.out_proj.weight', 'classifier.dense.bias']\n",
      "You should probably TRAIN this model on a down-stream task to be able to use it for predictions and inference.\n"
     ]
    },
    {
     "data": {
      "text/plain": [
       "<All keys matched successfully>"
      ]
     },
     "execution_count": 3,
     "metadata": {},
     "output_type": "execute_result"
    }
   ],
   "source": [
    "############# LOAD MODEL #################\n",
    "PATH = \"/home/glai/dev/subset-active-learning/local_bucket/7000_model.pt\"\n",
    "state_dict = torch.load(PATH)\n",
    "model = AutoModelForSequenceClassification.from_pretrained(\"roberta-base\")\n",
    "model.load_state_dict(state_dict)"
   ]
  },
  {
   "cell_type": "code",
   "execution_count": 4,
   "id": "7fc7c664",
   "metadata": {},
   "outputs": [
    {
     "name": "stderr",
     "output_type": "stream",
     "text": [
      "No config specified, defaulting to: sst/default\n",
      "Reusing dataset sst (/home/glai/.cache/huggingface/datasets/sst/default/1.0.0/b8a7889ef01c5d3ae8c379b84cc4080f8aad3ac2bc538701cbe0ac6416fb76ff)\n",
      "100%|██████████| 3/3 [00:00<00:00, 888.62it/s]\n",
      "Loading cached processed dataset at /home/glai/.cache/huggingface/datasets/sst/default/1.0.0/b8a7889ef01c5d3ae8c379b84cc4080f8aad3ac2bc538701cbe0ac6416fb76ff/cache-e96fff4bcf800b80.arrow\n",
      "Loading cached processed dataset at /home/glai/.cache/huggingface/datasets/sst/default/1.0.0/b8a7889ef01c5d3ae8c379b84cc4080f8aad3ac2bc538701cbe0ac6416fb76ff/cache-c19c9b6a9c9f8182.arrow\n",
      "Loading cached processed dataset at /home/glai/.cache/huggingface/datasets/sst/default/1.0.0/b8a7889ef01c5d3ae8c379b84cc4080f8aad3ac2bc538701cbe0ac6416fb76ff/cache-8d2a9f8a95240b96.arrow\n",
      "Loading cached processed dataset at /home/glai/.cache/huggingface/datasets/sst/default/1.0.0/b8a7889ef01c5d3ae8c379b84cc4080f8aad3ac2bc538701cbe0ac6416fb76ff/cache-0c3dbb722d1f6005.arrow\n",
      "Loading cached processed dataset at /home/glai/.cache/huggingface/datasets/sst/default/1.0.0/b8a7889ef01c5d3ae8c379b84cc4080f8aad3ac2bc538701cbe0ac6416fb76ff/cache-043061fce1d4f91a.arrow\n",
      "Loading cached processed dataset at /home/glai/.cache/huggingface/datasets/sst/default/1.0.0/b8a7889ef01c5d3ae8c379b84cc4080f8aad3ac2bc538701cbe0ac6416fb76ff/cache-88f590d49b39f548.arrow\n",
      "Loading cached shuffled indices for dataset at /home/glai/.cache/huggingface/datasets/sst/default/1.0.0/b8a7889ef01c5d3ae8c379b84cc4080f8aad3ac2bc538701cbe0ac6416fb76ff/cache-ffe29b54c11c2610.arrow\n",
      "/tmp/ipykernel_280690/2880214246.py:22: UserWarning: Implicit dimension choice for softmax has been deprecated. Change the call to include dim=X as an argument.\n",
      "  batch_scores = torch.nn.Softmax()(logits)[:,-1]\n"
     ]
    }
   ],
   "source": [
    "############# GET POOL CONFIDENCE SCORES #################\n",
    "from subset_active_learning.subset_selection import preprocess\n",
    "tokenized_sst2 = preprocess.preprocess_sst2(model_card=\"roberta-base\")\n",
    "sst2_downsample = tokenized_sst2['train'].shuffle(seed=0).select(range(0, 1000))\n",
    "train_dataloader = torch.utils.data.DataLoader(sst2_downsample, shuffle=False, batch_size=8, pin_memory=True)\n",
    "evaluation_output = evaluate(model=model, val_dataloader=train_dataloader, metric=datasets.load_metric(\"accuracy\"))"
   ]
  },
  {
   "cell_type": "code",
   "execution_count": 5,
   "id": "6d04a8ea",
   "metadata": {},
   "outputs": [],
   "source": [
    "pool_scores = evaluation_output[\"confidence_scores\"].cpu().numpy()"
   ]
  },
  {
   "cell_type": "code",
   "execution_count": 17,
   "id": "30360800",
   "metadata": {},
   "outputs": [],
   "source": [
    "def get_scores_for_nth_best(n, db_path):\n",
    "    subset_indices, preds, obj = get_nth_best(n=n, db_path=db_path)\n",
    "    print(f\"{n}th best. Accraucy {obj}\")\n",
    "    subset_confidence_scores = pool_scores[subset_indices]\n",
    "    return subset_confidence_scores"
   ]
  },
  {
   "cell_type": "code",
   "execution_count": 21,
   "id": "75894ee2",
   "metadata": {},
   "outputs": [
    {
     "name": "stdout",
     "output_type": "stream",
     "text": [
      "2000th best. Accraucy 0.71571299\n"
     ]
    },
    {
     "data": {
      "text/plain": [
       "<AxesSubplot: ylabel='Probability'>"
      ]
     },
     "execution_count": 21,
     "metadata": {},
     "output_type": "execute_result"
    },
    {
     "data": {
      "image/png": "[encoded data removed]",
      "text/plain": [
       "<Figure size 640x480 with 1 Axes>"
      ]
     },
     "metadata": {},
     "output_type": "display_data"
    }
   ],
   "source": [
    "sns.histplot(get_scores_for_nth_best(n=2000, db_path=\"/home/glai/dev/subset-active-learning/local_bucket/sst_results_diversity_annealing.db\"), stat='probability', color='blue', bins=8)\n",
    "# sns.histplot(pool_scores, stat='probability', color='orange', bins=8)"
   ]
  },
  {
   "cell_type": "code",
   "execution_count": 22,
   "id": "672af48f",
   "metadata": {},
   "outputs": [
    {
     "name": "stdout",
     "output_type": "stream",
     "text": [
      "100th best. Accraucy 0.77747502\n"
     ]
    },
    {
     "data": {
      "text/plain": [
       "<AxesSubplot: ylabel='Probability'>"
      ]
     },
     "execution_count": 22,
     "metadata": {},
     "output_type": "execute_result"
    },
    {
     "data": {
      "image/png": "[encoded data removed]",
      "text/plain": [
       "<Figure size 640x480 with 1 Axes>"
      ]
     },
     "metadata": {},
     "output_type": "display_data"
    }
   ],
   "source": [
    "sns.histplot(get_scores_for_nth_best(n=100, db_path=\"/home/glai/dev/subset-active-learning/local_bucket/sst_results_diversity_annealing.db\"), stat='probability', color='blue', bins=8)\n",
    "sns.histplot(np.random.choice(pool_scores, 100, replace=False), stat='probability', color='orange', bins=8)"
   ]
  },
  {
   "cell_type": "code",
   "execution_count": 19,
   "id": "b8681fe6",
   "metadata": {},
   "outputs": [
    {
     "name": "stdout",
     "output_type": "stream",
     "text": [
      "0th best. Accraucy 0.78655767\n"
     ]
    },
    {
     "data": {
      "text/plain": [
       "<AxesSubplot: ylabel='Probability'>"
      ]
     },
     "execution_count": 19,
     "metadata": {},
     "output_type": "execute_result"
    },
    {
     "data": {
      "image/png": "[encoded data removed]",
      "text/plain": [
       "<Figure size 640x480 with 1 Axes>"
      ]
     },
     "metadata": {},
     "output_type": "display_data"
    }
   ],
   "source": [
    "sns.histplot(get_scores_for_nth_best(n=0, db_path=\"/home/glai/dev/subset-active-learning/local_bucket/sst_results_diversity_annealing.db\"), stat='probability', color='blue', bins=8)"
   ]
  }
 ],
 "metadata": {
  "celltoolbar": "Tags",
  "kernelspec": {
   "display_name": "Python 3.8.13 ('subset')",
   "language": "python",
   "name": "python3"
  },
  "language_info": {
   "codemirror_mode": {
    "name": "ipython",
    "version": 3
   },
   "file_extension": ".py",
   "mimetype": "text/x-python",
   "name": "python",
   "nbconvert_exporter": "python",
   "pygments_lexer": "ipython3",
   "version": "3.8.13"
  },
  "vscode": {
   "interpreter": {
    "hash": "93a8110c327b3f25735ecf324002c5782191dd6b384b2003081090d3bf4c3d32"
   }
  }
 },
 "nbformat": 4,
 "nbformat_minor": 5
}
