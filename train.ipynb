{
 "cells": [
  {
   "cell_type": "code",
   "execution_count": 1,
   "metadata": {},
   "outputs": [],
   "source": [
    "%load_ext autoreload  \n",
    "%autoreload 2 "
   ]
  },
  {
   "cell_type": "code",
   "execution_count": 49,
   "metadata": {},
   "outputs": [],
   "source": [
    "import torchspider\n",
    "from datasets import load_dataset\n",
    "from dataclasses import dataclass\n",
    "from transformers import AutoTokenizer, AutoModelForSequenceClassification\n",
    "import numpy as np\n",
    "from torch.utils.data import DataLoader"
   ]
  },
  {
   "cell_type": "code",
   "execution_count": null,
   "metadata": {},
   "outputs": [],
   "source": [
    "\"\"\"\n",
    "\n",
    "# select 1000 unlabeled data to label \n",
    "\n",
    "selected_unlabeld_data = select_unlabeled_data(all_unlabeled_data, strategy=\"random\", num=1000)\n",
    "selected_unlabeld_data = select_unlabeled_data(all_unlabeled_data, strategy=\"uncertainty_sampling\", num=1000)\n",
    "selected_unlabeld_data = select_unlabeled_data(all_unlabeled_data, strategy=\"optimal_subset\", optimal_subset=optimal_subset)\n",
    "\n",
    "# label these data (in this case, we just get their labels from the HF dataset, because they are already labeled and we were only pretending that they were unlabeled)\n",
    "\n",
    "selected_labeled_data = label_data(selected_unlabeld_data, hf_data)\n",
    "\n",
    "# train the model with these newly labeled data and plot them out \n",
    "\n",
    "\"\"\""
   ]
  },
  {
   "cell_type": "markdown",
   "metadata": {},
   "source": [
    "# Data\n"
   ]
  },
  {
   "cell_type": "code",
   "execution_count": 102,
   "metadata": {},
   "outputs": [],
   "source": [
    "@dataclass(frozen=True)\n",
    "class Config:\n",
    "    max_length: int = 66\n",
    "    debug: bool = False\n",
    "    epochs: int = 10\n",
    "    batch_size: int = 8\n",
    "    model_name: str = \"google/electra-small-discriminator\"\n",
    "    optimizer: str = \"adamw\"\n",
    "    loss_func: str = \"cross_entropy_loss\"\n",
    "    lr: int = 1e-5\n",
    "    path: str = \".\"\n",
    "\n",
    "\n",
    "config = Config(max_length=66, debug=True)"
   ]
  },
  {
   "cell_type": "code",
   "execution_count": 127,
   "metadata": {},
   "outputs": [],
   "source": [
    "tokenizer = AutoTokenizer.from_pretrained(\"google/electra-small-discriminator\")\n",
    "\n",
    "def preprocess(data):\n",
    "    data = data.rename_column('label', 'scalar_label')\n",
    "    data = data.map(lambda x: {'label' : 0 if x['scalar_label'] < 0.5 else 1})\n",
    "\n",
    "    def tokenize_func(examples): \n",
    "        tokenized = tokenizer(\n",
    "            examples[\"sentence\"], padding=\"max_length\", max_length=config.max_length, truncation=True\n",
    "        )\n",
    "        tokenized[\"label\"] = examples[\"label\"]\n",
    "        return tokenized\n",
    "\n",
    "    ds = data.map(\n",
    "        tokenize_func,\n",
    "        remove_columns=data.column_names,\n",
    "        batched=True,\n",
    "    )\n",
    "    ds.set_format(type=\"torch\")\n",
    "    return ds"
   ]
  },
  {
   "cell_type": "code",
   "execution_count": 128,
   "id": "e0e305ed",
   "metadata": {},
   "outputs": [
    {
     "name": "stderr",
     "output_type": "stream",
     "text": [
      "WARNING:datasets.builder:No config specified, defaulting to: sst/default\n",
      "WARNING:datasets.builder:Reusing dataset sst (/Users/garylai/.cache/huggingface/datasets/sst/default/1.0.0/b8a7889ef01c5d3ae8c379b84cc4080f8aad3ac2bc538701cbe0ac6416fb76ff)\n",
      "100%|██████████| 3/3 [00:00<00:00, 603.73it/s]\n"
     ]
    }
   ],
   "source": [
    "sst2 = load_dataset(\"sst\")\n",
    "\n",
    "selected_indices = np.random.choice(len(sst2[\"train\"]), replace=False, size=1000)\n",
    "selected_data = sst2[\"train\"].select(selected_indices)\n",
    "debug_data = sst2[\"train\"].select(selected_indices[:8])"
   ]
  },
  {
   "cell_type": "code",
   "execution_count": 130,
   "metadata": {},
   "outputs": [
    {
     "name": "stderr",
     "output_type": "stream",
     "text": [
      "100%|██████████| 1000/1000 [00:00<00:00, 4152.37ex/s]\n",
      "100%|██████████| 1/1 [00:00<00:00,  3.18ba/s]\n",
      "100%|██████████| 1101/1101 [00:00<00:00, 10050.82ex/s]\n",
      "100%|██████████| 2/2 [00:00<00:00, 22.08ba/s]\n",
      "100%|██████████| 2210/2210 [00:00<00:00, 11649.37ex/s]\n",
      "100%|██████████| 3/3 [00:00<00:00,  9.61ba/s]\n",
      "100%|██████████| 8/8 [00:00<00:00, 2607.59ex/s]\n",
      "100%|██████████| 1/1 [00:00<00:00, 167.31ba/s]\n"
     ]
    }
   ],
   "source": [
    "train_ds = preprocess(selected_data)\n",
    "valid_ds = preprocess(sst2[\"validation\"])\n",
    "test_ds = preprocess(sst2[\"test\"])\n",
    "debug_ds = preprocess(debug_data)"
   ]
  },
  {
   "cell_type": "code",
   "execution_count": 132,
   "metadata": {},
   "outputs": [],
   "source": [
    "# selected_data[\"label\"]"
   ]
  },
  {
   "cell_type": "code",
   "execution_count": 135,
   "metadata": {},
   "outputs": [],
   "source": [
    "# train_ds[\"label\"]"
   ]
  },
  {
   "cell_type": "code",
   "execution_count": 136,
   "metadata": {},
   "outputs": [
    {
     "data": {
      "text/plain": [
       "Dataset({\n",
       "    features: ['label', 'input_ids', 'token_type_ids', 'attention_mask'],\n",
       "    num_rows: 1000\n",
       "})"
      ]
     },
     "execution_count": 136,
     "metadata": {},
     "output_type": "execute_result"
    }
   ],
   "source": [
    "train_ds"
   ]
  },
  {
   "cell_type": "code",
   "execution_count": 137,
   "metadata": {},
   "outputs": [
    {
     "data": {
      "text/plain": [
       "[1000, 1101, 2210, 8]"
      ]
     },
     "execution_count": 137,
     "metadata": {},
     "output_type": "execute_result"
    }
   ],
   "source": [
    "list(map(len, [train_ds, valid_ds, test_ds, debug_ds]))"
   ]
  },
  {
   "cell_type": "code",
   "execution_count": 138,
   "metadata": {},
   "outputs": [],
   "source": [
    "train_dl = DataLoader(train_ds, batch_size=config.batch_size, shuffle=True)\n",
    "valid_dl = DataLoader(valid_ds, batch_size=config.batch_size, shuffle=False)\n",
    "test_dl = DataLoader(test_ds, batch_size=config.batch_size, shuffle=False)\n",
    "debug_dl = DataLoader(debug_ds, batch_size=config.batch_size, shuffle=True)"
   ]
  },
  {
   "cell_type": "code",
   "execution_count": 139,
   "metadata": {},
   "outputs": [
    {
     "data": {
      "text/plain": [
       "(125, 138, 277)"
      ]
     },
     "execution_count": 139,
     "metadata": {},
     "output_type": "execute_result"
    }
   ],
   "source": [
    "len(train_dl), len(valid_dl), len(test_dl)"
   ]
  },
  {
   "cell_type": "code",
   "execution_count": 140,
   "metadata": {},
   "outputs": [
    {
     "name": "stdout",
     "output_type": "stream",
     "text": [
      "dict_keys(['label', 'input_ids', 'token_type_ids', 'attention_mask'])\n"
     ]
    }
   ],
   "source": [
    "for batch in train_dl:\n",
    "    # print(len(batch[\"input_ids\"]))\n",
    "    # print(tokenizer.decode(batch[\"input_ids\"][0]))\n",
    "    print(batch.keys())\n",
    "    break\n"
   ]
  },
  {
   "cell_type": "code",
   "execution_count": 141,
   "metadata": {},
   "outputs": [],
   "source": [
    "dls = DataLoaderGroup(train_dl, valid_dl, test_dl) if not config.debug else DataLoaderGroup(debug_dl, debug_dl, test_dl)"
   ]
  },
  {
   "cell_type": "code",
   "execution_count": 142,
   "metadata": {},
   "outputs": [
    {
     "data": {
      "text/plain": [
       "(1, 1, torch.Size([16, 66]))"
      ]
     },
     "execution_count": 142,
     "metadata": {},
     "output_type": "execute_result"
    }
   ],
   "source": [
    "len(dls.train_dl), len(debug_dl), train_ds[:config.batch_size*2][\"input_ids\"].shape"
   ]
  },
  {
   "cell_type": "markdown",
   "metadata": {},
   "source": [
    "# Training\n"
   ]
  },
  {
   "cell_type": "code",
   "execution_count": 143,
   "metadata": {},
   "outputs": [],
   "source": [
    "from torchspider import *\n",
    "import torch"
   ]
  },
  {
   "cell_type": "code",
   "execution_count": 144,
   "metadata": {},
   "outputs": [
    {
     "name": "stderr",
     "output_type": "stream",
     "text": [
      "WARNING:root:device is: cpu\n"
     ]
    }
   ],
   "source": [
    "cbs = (\n",
    "    [CudaCallback(device=torch.device(\"cuda\" if torch.cuda.is_available() else \"cpu\")), TrackLoss(), Debugger()]\n",
    "    if config.debug\n",
    "    else [\n",
    "        CudaCallback(device=torch.device(\"cuda\" if torch.cuda.is_available() else \"cpu\")),\n",
    "        WandbTrackAndSave(\"beautify\", \"beautify_bullet\"),\n",
    "    ]\n",
    ")"
   ]
  },
  {
   "cell_type": "code",
   "execution_count": 145,
   "metadata": {},
   "outputs": [
    {
     "name": "stderr",
     "output_type": "stream",
     "text": [
      "Some weights of the model checkpoint at google/electra-small-discriminator were not used when initializing ElectraForSequenceClassification: ['discriminator_predictions.dense.bias', 'discriminator_predictions.dense_prediction.weight', 'discriminator_predictions.dense.weight', 'discriminator_predictions.dense_prediction.bias']\n",
      "- This IS expected if you are initializing ElectraForSequenceClassification from the checkpoint of a model trained on another task or with another architecture (e.g. initializing a BertForSequenceClassification model from a BertForPreTraining model).\n",
      "- This IS NOT expected if you are initializing ElectraForSequenceClassification from the checkpoint of a model that you expect to be exactly identical (initializing a BertForSequenceClassification model from a BertForSequenceClassification model).\n",
      "Some weights of ElectraForSequenceClassification were not initialized from the model checkpoint at google/electra-small-discriminator and are newly initialized: ['classifier.dense.bias', 'classifier.out_proj.weight', 'classifier.out_proj.bias', 'classifier.dense.weight']\n",
      "You should probably TRAIN this model on a down-stream task to be able to use it for predictions and inference.\n"
     ]
    }
   ],
   "source": [
    "model = AutoModelForSequenceClassification.from_pretrained(config.model_name)"
   ]
  },
  {
   "cell_type": "code",
   "execution_count": 146,
   "metadata": {},
   "outputs": [
    {
     "name": "stdout",
     "output_type": "stream",
     "text": [
      "saved dls successfully!\n"
     ]
    },
    {
     "name": "stderr",
     "output_type": "stream",
     "text": [
      "/Users/garylai/Dev/subset-active-learning/.venv/lib/python3.8/site-packages/transformers/optimization.py:306: FutureWarning: This implementation of AdamW is deprecated and will be removed in a future version. Use the PyTorch implementation torch.optim.AdamW instead, or set `no_deprecation_warning=True` to disable this warning\n",
      "  warnings.warn(\n"
     ]
    }
   ],
   "source": [
    "learner = Learner(model, \n",
    "                  dls, \n",
    "                  config, \n",
    "                  cbs=cbs)"
   ]
  },
  {
   "cell_type": "code",
   "execution_count": 147,
   "metadata": {},
   "outputs": [
    {
     "name": "stdout",
     "output_type": "stream",
     "text": [
      "epoch 1:   0%|          | 0/1 [00:00<?, ?it/s]"
     ]
    },
    {
     "ename": "AttributeError",
     "evalue": "'dict' object has no attribute 'size'",
     "output_type": "error",
     "traceback": [
      "\u001b[0;31m---------------------------------------------------------------------------\u001b[0m",
      "\u001b[0;31mAttributeError\u001b[0m                            Traceback (most recent call last)",
      "\u001b[1;32m/Users/garylai/Dev/subset-active-learning/train.ipynb Cell 23'\u001b[0m in \u001b[0;36m<cell line: 1>\u001b[0;34m()\u001b[0m\n\u001b[0;32m----> <a href='vscode-notebook-cell:/Users/garylai/Dev/subset-active-learning/train.ipynb#ch0000018?line=0'>1</a>\u001b[0m learner\u001b[39m.\u001b[39;49mfit(config\u001b[39m.\u001b[39;49mepochs)\n",
      "File \u001b[0;32m~/Dev/torchspider/src/torchspider/learner.py:101\u001b[0m, in \u001b[0;36mLearner.fit\u001b[0;34m(self, epochs)\u001b[0m\n\u001b[1;32m     <a href='file:///Users/garylai/Dev/torchspider/src/torchspider/learner.py?line=98'>99</a>\u001b[0m \u001b[39mfor\u001b[39;00m i, batch \u001b[39min\u001b[39;00m \u001b[39menumerate\u001b[39m(\u001b[39mself\u001b[39m\u001b[39m.\u001b[39mdls\u001b[39m.\u001b[39mtrain_dl):\n\u001b[1;32m    <a href='file:///Users/garylai/Dev/torchspider/src/torchspider/learner.py?line=99'>100</a>\u001b[0m     \u001b[39mself\u001b[39m\u001b[39m.\u001b[39mbatch_x, \u001b[39mself\u001b[39m\u001b[39m.\u001b[39mbatch_y \u001b[39m=\u001b[39m \u001b[39mself\u001b[39m\u001b[39m.\u001b[39mget_batch_x_y(batch)\n\u001b[0;32m--> <a href='file:///Users/garylai/Dev/torchspider/src/torchspider/learner.py?line=100'>101</a>\u001b[0m     \u001b[39mself\u001b[39;49m\u001b[39m.\u001b[39;49mtrain_batch()\n\u001b[1;32m    <a href='file:///Users/garylai/Dev/torchspider/src/torchspider/learner.py?line=101'>102</a>\u001b[0m     \u001b[39mif\u001b[39;00m i \u001b[39m%\u001b[39m \u001b[39mself\u001b[39m\u001b[39m.\u001b[39mvalid_interval \u001b[39m==\u001b[39m \u001b[39m0\u001b[39m:\n\u001b[1;32m    <a href='file:///Users/garylai/Dev/torchspider/src/torchspider/learner.py?line=102'>103</a>\u001b[0m         \u001b[39mself\u001b[39m\u001b[39m.\u001b[39mvalidate_interval()\n",
      "File \u001b[0;32m~/Dev/torchspider/src/torchspider/learner.py:123\u001b[0m, in \u001b[0;36mLearner.train_batch\u001b[0;34m(self)\u001b[0m\n\u001b[1;32m    <a href='file:///Users/garylai/Dev/torchspider/src/torchspider/learner.py?line=120'>121</a>\u001b[0m \u001b[39m# forward\u001b[39;00m\n\u001b[1;32m    <a href='file:///Users/garylai/Dev/torchspider/src/torchspider/learner.py?line=121'>122</a>\u001b[0m \u001b[39mif\u001b[39;00m \u001b[39mself\u001b[39m\u001b[39m.\u001b[39mget_pred \u001b[39m==\u001b[39m \u001b[39mNone\u001b[39;00m:\n\u001b[0;32m--> <a href='file:///Users/garylai/Dev/torchspider/src/torchspider/learner.py?line=122'>123</a>\u001b[0m     \u001b[39mself\u001b[39m\u001b[39m.\u001b[39mpred \u001b[39m=\u001b[39m \u001b[39mself\u001b[39;49m\u001b[39m.\u001b[39;49mmodel(\u001b[39mself\u001b[39;49m\u001b[39m.\u001b[39;49mbatch_x)\n\u001b[1;32m    <a href='file:///Users/garylai/Dev/torchspider/src/torchspider/learner.py?line=123'>124</a>\u001b[0m \u001b[39melse\u001b[39;00m:\n\u001b[1;32m    <a href='file:///Users/garylai/Dev/torchspider/src/torchspider/learner.py?line=124'>125</a>\u001b[0m     \u001b[39mself\u001b[39m\u001b[39m.\u001b[39mout \u001b[39m=\u001b[39m \u001b[39mself\u001b[39m\u001b[39m.\u001b[39mmodel(\u001b[39mself\u001b[39m\u001b[39m.\u001b[39mbatch_x)\n",
      "File \u001b[0;32m~/Dev/subset-active-learning/.venv/lib/python3.8/site-packages/torch-1.11.0-py3.8-macosx-10.9-x86_64.egg/torch/nn/modules/module.py:1110\u001b[0m, in \u001b[0;36mModule._call_impl\u001b[0;34m(self, *input, **kwargs)\u001b[0m\n\u001b[1;32m   <a href='file:///Users/garylai/Dev/subset-active-learning/.venv/lib/python3.8/site-packages/torch-1.11.0-py3.8-macosx-10.9-x86_64.egg/torch/nn/modules/module.py?line=1105'>1106</a>\u001b[0m \u001b[39m# If we don't have any hooks, we want to skip the rest of the logic in\u001b[39;00m\n\u001b[1;32m   <a href='file:///Users/garylai/Dev/subset-active-learning/.venv/lib/python3.8/site-packages/torch-1.11.0-py3.8-macosx-10.9-x86_64.egg/torch/nn/modules/module.py?line=1106'>1107</a>\u001b[0m \u001b[39m# this function, and just call forward.\u001b[39;00m\n\u001b[1;32m   <a href='file:///Users/garylai/Dev/subset-active-learning/.venv/lib/python3.8/site-packages/torch-1.11.0-py3.8-macosx-10.9-x86_64.egg/torch/nn/modules/module.py?line=1107'>1108</a>\u001b[0m \u001b[39mif\u001b[39;00m \u001b[39mnot\u001b[39;00m (\u001b[39mself\u001b[39m\u001b[39m.\u001b[39m_backward_hooks \u001b[39mor\u001b[39;00m \u001b[39mself\u001b[39m\u001b[39m.\u001b[39m_forward_hooks \u001b[39mor\u001b[39;00m \u001b[39mself\u001b[39m\u001b[39m.\u001b[39m_forward_pre_hooks \u001b[39mor\u001b[39;00m _global_backward_hooks\n\u001b[1;32m   <a href='file:///Users/garylai/Dev/subset-active-learning/.venv/lib/python3.8/site-packages/torch-1.11.0-py3.8-macosx-10.9-x86_64.egg/torch/nn/modules/module.py?line=1108'>1109</a>\u001b[0m         \u001b[39mor\u001b[39;00m _global_forward_hooks \u001b[39mor\u001b[39;00m _global_forward_pre_hooks):\n\u001b[0;32m-> <a href='file:///Users/garylai/Dev/subset-active-learning/.venv/lib/python3.8/site-packages/torch-1.11.0-py3.8-macosx-10.9-x86_64.egg/torch/nn/modules/module.py?line=1109'>1110</a>\u001b[0m     \u001b[39mreturn\u001b[39;00m forward_call(\u001b[39m*\u001b[39;49m\u001b[39minput\u001b[39;49m, \u001b[39m*\u001b[39;49m\u001b[39m*\u001b[39;49mkwargs)\n\u001b[1;32m   <a href='file:///Users/garylai/Dev/subset-active-learning/.venv/lib/python3.8/site-packages/torch-1.11.0-py3.8-macosx-10.9-x86_64.egg/torch/nn/modules/module.py?line=1110'>1111</a>\u001b[0m \u001b[39m# Do not call functions when jit is used\u001b[39;00m\n\u001b[1;32m   <a href='file:///Users/garylai/Dev/subset-active-learning/.venv/lib/python3.8/site-packages/torch-1.11.0-py3.8-macosx-10.9-x86_64.egg/torch/nn/modules/module.py?line=1111'>1112</a>\u001b[0m full_backward_hooks, non_full_backward_hooks \u001b[39m=\u001b[39m [], []\n",
      "File \u001b[0;32m~/Dev/subset-active-learning/.venv/lib/python3.8/site-packages/transformers/models/electra/modeling_electra.py:1002\u001b[0m, in \u001b[0;36mElectraForSequenceClassification.forward\u001b[0;34m(self, input_ids, attention_mask, token_type_ids, position_ids, head_mask, inputs_embeds, labels, output_attentions, output_hidden_states, return_dict)\u001b[0m\n\u001b[1;32m    <a href='file:///Users/garylai/Dev/subset-active-learning/.venv/lib/python3.8/site-packages/transformers/models/electra/modeling_electra.py?line=993'>994</a>\u001b[0m \u001b[39mr\u001b[39m\u001b[39m\"\"\"\u001b[39;00m\n\u001b[1;32m    <a href='file:///Users/garylai/Dev/subset-active-learning/.venv/lib/python3.8/site-packages/transformers/models/electra/modeling_electra.py?line=994'>995</a>\u001b[0m \u001b[39mlabels (`torch.LongTensor` of shape `(batch_size,)`, *optional*):\u001b[39;00m\n\u001b[1;32m    <a href='file:///Users/garylai/Dev/subset-active-learning/.venv/lib/python3.8/site-packages/transformers/models/electra/modeling_electra.py?line=995'>996</a>\u001b[0m \u001b[39m    Labels for computing the sequence classification/regression loss. Indices should be in `[0, ...,\u001b[39;00m\n\u001b[1;32m    <a href='file:///Users/garylai/Dev/subset-active-learning/.venv/lib/python3.8/site-packages/transformers/models/electra/modeling_electra.py?line=996'>997</a>\u001b[0m \u001b[39m    config.num_labels - 1]`. If `config.num_labels == 1` a regression loss is computed (Mean-Square loss), If\u001b[39;00m\n\u001b[1;32m    <a href='file:///Users/garylai/Dev/subset-active-learning/.venv/lib/python3.8/site-packages/transformers/models/electra/modeling_electra.py?line=997'>998</a>\u001b[0m \u001b[39m    `config.num_labels > 1` a classification loss is computed (Cross-Entropy).\u001b[39;00m\n\u001b[1;32m    <a href='file:///Users/garylai/Dev/subset-active-learning/.venv/lib/python3.8/site-packages/transformers/models/electra/modeling_electra.py?line=998'>999</a>\u001b[0m \u001b[39m\"\"\"\u001b[39;00m\n\u001b[1;32m   <a href='file:///Users/garylai/Dev/subset-active-learning/.venv/lib/python3.8/site-packages/transformers/models/electra/modeling_electra.py?line=999'>1000</a>\u001b[0m return_dict \u001b[39m=\u001b[39m return_dict \u001b[39mif\u001b[39;00m return_dict \u001b[39mis\u001b[39;00m \u001b[39mnot\u001b[39;00m \u001b[39mNone\u001b[39;00m \u001b[39melse\u001b[39;00m \u001b[39mself\u001b[39m\u001b[39m.\u001b[39mconfig\u001b[39m.\u001b[39muse_return_dict\n\u001b[0;32m-> <a href='file:///Users/garylai/Dev/subset-active-learning/.venv/lib/python3.8/site-packages/transformers/models/electra/modeling_electra.py?line=1001'>1002</a>\u001b[0m discriminator_hidden_states \u001b[39m=\u001b[39m \u001b[39mself\u001b[39;49m\u001b[39m.\u001b[39;49melectra(\n\u001b[1;32m   <a href='file:///Users/garylai/Dev/subset-active-learning/.venv/lib/python3.8/site-packages/transformers/models/electra/modeling_electra.py?line=1002'>1003</a>\u001b[0m     input_ids,\n\u001b[1;32m   <a href='file:///Users/garylai/Dev/subset-active-learning/.venv/lib/python3.8/site-packages/transformers/models/electra/modeling_electra.py?line=1003'>1004</a>\u001b[0m     attention_mask\u001b[39m=\u001b[39;49mattention_mask,\n\u001b[1;32m   <a href='file:///Users/garylai/Dev/subset-active-learning/.venv/lib/python3.8/site-packages/transformers/models/electra/modeling_electra.py?line=1004'>1005</a>\u001b[0m     token_type_ids\u001b[39m=\u001b[39;49mtoken_type_ids,\n\u001b[1;32m   <a href='file:///Users/garylai/Dev/subset-active-learning/.venv/lib/python3.8/site-packages/transformers/models/electra/modeling_electra.py?line=1005'>1006</a>\u001b[0m     position_ids\u001b[39m=\u001b[39;49mposition_ids,\n\u001b[1;32m   <a href='file:///Users/garylai/Dev/subset-active-learning/.venv/lib/python3.8/site-packages/transformers/models/electra/modeling_electra.py?line=1006'>1007</a>\u001b[0m     head_mask\u001b[39m=\u001b[39;49mhead_mask,\n\u001b[1;32m   <a href='file:///Users/garylai/Dev/subset-active-learning/.venv/lib/python3.8/site-packages/transformers/models/electra/modeling_electra.py?line=1007'>1008</a>\u001b[0m     inputs_embeds\u001b[39m=\u001b[39;49minputs_embeds,\n\u001b[1;32m   <a href='file:///Users/garylai/Dev/subset-active-learning/.venv/lib/python3.8/site-packages/transformers/models/electra/modeling_electra.py?line=1008'>1009</a>\u001b[0m     output_attentions\u001b[39m=\u001b[39;49moutput_attentions,\n\u001b[1;32m   <a href='file:///Users/garylai/Dev/subset-active-learning/.venv/lib/python3.8/site-packages/transformers/models/electra/modeling_electra.py?line=1009'>1010</a>\u001b[0m     output_hidden_states\u001b[39m=\u001b[39;49moutput_hidden_states,\n\u001b[1;32m   <a href='file:///Users/garylai/Dev/subset-active-learning/.venv/lib/python3.8/site-packages/transformers/models/electra/modeling_electra.py?line=1010'>1011</a>\u001b[0m     return_dict\u001b[39m=\u001b[39;49mreturn_dict,\n\u001b[1;32m   <a href='file:///Users/garylai/Dev/subset-active-learning/.venv/lib/python3.8/site-packages/transformers/models/electra/modeling_electra.py?line=1011'>1012</a>\u001b[0m )\n\u001b[1;32m   <a href='file:///Users/garylai/Dev/subset-active-learning/.venv/lib/python3.8/site-packages/transformers/models/electra/modeling_electra.py?line=1013'>1014</a>\u001b[0m sequence_output \u001b[39m=\u001b[39m discriminator_hidden_states[\u001b[39m0\u001b[39m]\n\u001b[1;32m   <a href='file:///Users/garylai/Dev/subset-active-learning/.venv/lib/python3.8/site-packages/transformers/models/electra/modeling_electra.py?line=1014'>1015</a>\u001b[0m logits \u001b[39m=\u001b[39m \u001b[39mself\u001b[39m\u001b[39m.\u001b[39mclassifier(sequence_output)\n",
      "File \u001b[0;32m~/Dev/subset-active-learning/.venv/lib/python3.8/site-packages/torch-1.11.0-py3.8-macosx-10.9-x86_64.egg/torch/nn/modules/module.py:1110\u001b[0m, in \u001b[0;36mModule._call_impl\u001b[0;34m(self, *input, **kwargs)\u001b[0m\n\u001b[1;32m   <a href='file:///Users/garylai/Dev/subset-active-learning/.venv/lib/python3.8/site-packages/torch-1.11.0-py3.8-macosx-10.9-x86_64.egg/torch/nn/modules/module.py?line=1105'>1106</a>\u001b[0m \u001b[39m# If we don't have any hooks, we want to skip the rest of the logic in\u001b[39;00m\n\u001b[1;32m   <a href='file:///Users/garylai/Dev/subset-active-learning/.venv/lib/python3.8/site-packages/torch-1.11.0-py3.8-macosx-10.9-x86_64.egg/torch/nn/modules/module.py?line=1106'>1107</a>\u001b[0m \u001b[39m# this function, and just call forward.\u001b[39;00m\n\u001b[1;32m   <a href='file:///Users/garylai/Dev/subset-active-learning/.venv/lib/python3.8/site-packages/torch-1.11.0-py3.8-macosx-10.9-x86_64.egg/torch/nn/modules/module.py?line=1107'>1108</a>\u001b[0m \u001b[39mif\u001b[39;00m \u001b[39mnot\u001b[39;00m (\u001b[39mself\u001b[39m\u001b[39m.\u001b[39m_backward_hooks \u001b[39mor\u001b[39;00m \u001b[39mself\u001b[39m\u001b[39m.\u001b[39m_forward_hooks \u001b[39mor\u001b[39;00m \u001b[39mself\u001b[39m\u001b[39m.\u001b[39m_forward_pre_hooks \u001b[39mor\u001b[39;00m _global_backward_hooks\n\u001b[1;32m   <a href='file:///Users/garylai/Dev/subset-active-learning/.venv/lib/python3.8/site-packages/torch-1.11.0-py3.8-macosx-10.9-x86_64.egg/torch/nn/modules/module.py?line=1108'>1109</a>\u001b[0m         \u001b[39mor\u001b[39;00m _global_forward_hooks \u001b[39mor\u001b[39;00m _global_forward_pre_hooks):\n\u001b[0;32m-> <a href='file:///Users/garylai/Dev/subset-active-learning/.venv/lib/python3.8/site-packages/torch-1.11.0-py3.8-macosx-10.9-x86_64.egg/torch/nn/modules/module.py?line=1109'>1110</a>\u001b[0m     \u001b[39mreturn\u001b[39;00m forward_call(\u001b[39m*\u001b[39;49m\u001b[39minput\u001b[39;49m, \u001b[39m*\u001b[39;49m\u001b[39m*\u001b[39;49mkwargs)\n\u001b[1;32m   <a href='file:///Users/garylai/Dev/subset-active-learning/.venv/lib/python3.8/site-packages/torch-1.11.0-py3.8-macosx-10.9-x86_64.egg/torch/nn/modules/module.py?line=1110'>1111</a>\u001b[0m \u001b[39m# Do not call functions when jit is used\u001b[39;00m\n\u001b[1;32m   <a href='file:///Users/garylai/Dev/subset-active-learning/.venv/lib/python3.8/site-packages/torch-1.11.0-py3.8-macosx-10.9-x86_64.egg/torch/nn/modules/module.py?line=1111'>1112</a>\u001b[0m full_backward_hooks, non_full_backward_hooks \u001b[39m=\u001b[39m [], []\n",
      "File \u001b[0;32m~/Dev/subset-active-learning/.venv/lib/python3.8/site-packages/transformers/models/electra/modeling_electra.py:868\u001b[0m, in \u001b[0;36mElectraModel.forward\u001b[0;34m(self, input_ids, attention_mask, token_type_ids, position_ids, head_mask, inputs_embeds, encoder_hidden_states, encoder_attention_mask, past_key_values, use_cache, output_attentions, output_hidden_states, return_dict)\u001b[0m\n\u001b[1;32m    <a href='file:///Users/garylai/Dev/subset-active-learning/.venv/lib/python3.8/site-packages/transformers/models/electra/modeling_electra.py?line=865'>866</a>\u001b[0m     \u001b[39mraise\u001b[39;00m \u001b[39mValueError\u001b[39;00m(\u001b[39m\"\u001b[39m\u001b[39mYou cannot specify both input_ids and inputs_embeds at the same time\u001b[39m\u001b[39m\"\u001b[39m)\n\u001b[1;32m    <a href='file:///Users/garylai/Dev/subset-active-learning/.venv/lib/python3.8/site-packages/transformers/models/electra/modeling_electra.py?line=866'>867</a>\u001b[0m \u001b[39melif\u001b[39;00m input_ids \u001b[39mis\u001b[39;00m \u001b[39mnot\u001b[39;00m \u001b[39mNone\u001b[39;00m:\n\u001b[0;32m--> <a href='file:///Users/garylai/Dev/subset-active-learning/.venv/lib/python3.8/site-packages/transformers/models/electra/modeling_electra.py?line=867'>868</a>\u001b[0m     input_shape \u001b[39m=\u001b[39m input_ids\u001b[39m.\u001b[39;49msize()\n\u001b[1;32m    <a href='file:///Users/garylai/Dev/subset-active-learning/.venv/lib/python3.8/site-packages/transformers/models/electra/modeling_electra.py?line=868'>869</a>\u001b[0m \u001b[39melif\u001b[39;00m inputs_embeds \u001b[39mis\u001b[39;00m \u001b[39mnot\u001b[39;00m \u001b[39mNone\u001b[39;00m:\n\u001b[1;32m    <a href='file:///Users/garylai/Dev/subset-active-learning/.venv/lib/python3.8/site-packages/transformers/models/electra/modeling_electra.py?line=869'>870</a>\u001b[0m     input_shape \u001b[39m=\u001b[39m inputs_embeds\u001b[39m.\u001b[39msize()[:\u001b[39m-\u001b[39m\u001b[39m1\u001b[39m]\n",
      "\u001b[0;31mAttributeError\u001b[0m: 'dict' object has no attribute 'size'"
     ]
    }
   ],
   "source": [
    "learner.fit(config.epochs)"
   ]
  },
  {
   "cell_type": "code",
   "execution_count": 62,
   "metadata": {},
   "outputs": [
    {
     "data": {
      "text/plain": [
       "1"
      ]
     },
     "execution_count": 62,
     "metadata": {},
     "output_type": "execute_result"
    }
   ],
   "source": [
    "len(dls.train_dl)"
   ]
  },
  {
   "cell_type": "code",
   "execution_count": 80,
   "metadata": {},
   "outputs": [
    {
     "name": "stdout",
     "output_type": "stream",
     "text": [
      "{'input_ids': tensor([[  101,  1012,  1012,  1012,  2065,  2017,  1005,  2128,  2074,  1999,\n",
      "          1996,  6888,  2005,  1037,  4569,  1011,  1011,  2021,  2919,  1011,\n",
      "          1011,  3185,  1010,  2017,  2453,  2215,  2000,  4608, 29526,  2004,\n",
      "          1037, 13523,  3170,  2063,  1012,   102,     0,     0,     0,     0,\n",
      "             0,     0,     0,     0,     0,     0,     0,     0,     0,     0,\n",
      "             0,     0,     0,     0,     0,     0,     0,     0,     0,     0,\n",
      "             0,     0,     0,     0,     0,     0],\n",
      "        [  101,  1996,  2143,  4152,  2485,  2000,  1996,  9610, 25370,  1996,\n",
      "          2168,  2126,  2204,  8095,  2106,  1010,  2007,  1037,  3809, 13128,\n",
      "         11752,  1010,  4847,  1998, 12242,  1012,   102,     0,     0,     0,\n",
      "             0,     0,     0,     0,     0,     0,     0,     0,     0,     0,\n",
      "             0,     0,     0,     0,     0,     0,     0,     0,     0,     0,\n",
      "             0,     0,     0,     0,     0,     0,     0,     0,     0,     0,\n",
      "             0,     0,     0,     0,     0,     0],\n",
      "        [  101,  2071,  2023,  2022,  1996,  2034,  2350,  2996,  2537,  2915,\n",
      "          2006,  2678,  6823,  2612,  1997,  2143,  1029,   102,     0,     0,\n",
      "             0,     0,     0,     0,     0,     0,     0,     0,     0,     0,\n",
      "             0,     0,     0,     0,     0,     0,     0,     0,     0,     0,\n",
      "             0,     0,     0,     0,     0,     0,     0,     0,     0,     0,\n",
      "             0,     0,     0,     0,     0,     0,     0,     0,     0,     0,\n",
      "             0,     0,     0,     0,     0,     0],\n",
      "        [  101,  3666,  1996,  2373, 14289,  4246,  3057,  3185,  1010,  2026,\n",
      "          2568,  2921,  4192,  2000,  2028,  2019,  8586, 23681,  2005,  7831,\n",
      "          1024,  1996,  9476,  1999,  2900,  2008,  2435,  2111, 25750,  1012,\n",
      "           102,     0,     0,     0,     0,     0,     0,     0,     0,     0,\n",
      "             0,     0,     0,     0,     0,     0,     0,     0,     0,     0,\n",
      "             0,     0,     0,     0,     0,     0,     0,     0,     0,     0,\n",
      "             0,     0,     0,     0,     0,     0],\n",
      "        [  101,  7534,  2498,  2569,  1998,  1010,  2127,  1996,  2345,  2552,\n",
      "          1010,  2498,  2058, 14626, 21090,  3085,  1012,   102,     0,     0,\n",
      "             0,     0,     0,     0,     0,     0,     0,     0,     0,     0,\n",
      "             0,     0,     0,     0,     0,     0,     0,     0,     0,     0,\n",
      "             0,     0,     0,     0,     0,     0,     0,     0,     0,     0,\n",
      "             0,     0,     0,     0,     0,     0,     0,     0,     0,     0,\n",
      "             0,     0,     0,     0,     0,     0],\n",
      "        [  101,  1037, 10311,  2135,  6057,  9792,  2006,  9458,  4038,  8966,\n",
      "          2007,  1999, 15338,  3512, 21014, 12225,  1998,  2019, 18527,  6359,\n",
      "          6050,   102,     0,     0,     0,     0,     0,     0,     0,     0,\n",
      "             0,     0,     0,     0,     0,     0,     0,     0,     0,     0,\n",
      "             0,     0,     0,     0,     0,     0,     0,     0,     0,     0,\n",
      "             0,     0,     0,     0,     0,     0,     0,     0,     0,     0,\n",
      "             0,     0,     0,     0,     0,     0],\n",
      "        [  101,  1996,  2143,  2003,  4408,  1998,  5956,  2100,  1999,  2035,\n",
      "          1996,  2157,  3971,  1012,   102,     0,     0,     0,     0,     0,\n",
      "             0,     0,     0,     0,     0,     0,     0,     0,     0,     0,\n",
      "             0,     0,     0,     0,     0,     0,     0,     0,     0,     0,\n",
      "             0,     0,     0,     0,     0,     0,     0,     0,     0,     0,\n",
      "             0,     0,     0,     0,     0,     0,     0,     0,     0,     0,\n",
      "             0,     0,     0,     0,     0,     0],\n",
      "        [  101,  2130,  1999,  1996,  2621,  7292,  1010,  1996,  2087, 15035,\n",
      "          2402,  4378, 17210,  1996, 13372,  1997,  2019,  2895,  5394, 12774,\n",
      "          2011,  2242,  2062,  2084,  6329, 12020,  1012,   102,     0,     0,\n",
      "             0,     0,     0,     0,     0,     0,     0,     0,     0,     0,\n",
      "             0,     0,     0,     0,     0,     0,     0,     0,     0,     0,\n",
      "             0,     0,     0,     0,     0,     0,     0,     0,     0,     0,\n",
      "             0,     0,     0,     0,     0,     0]]), 'token_type_ids': tensor([[0, 0, 0, 0, 0, 0, 0, 0, 0, 0, 0, 0, 0, 0, 0, 0, 0, 0, 0, 0, 0, 0, 0, 0,\n",
      "         0, 0, 0, 0, 0, 0, 0, 0, 0, 0, 0, 0, 0, 0, 0, 0, 0, 0, 0, 0, 0, 0, 0, 0,\n",
      "         0, 0, 0, 0, 0, 0, 0, 0, 0, 0, 0, 0, 0, 0, 0, 0, 0, 0],\n",
      "        [0, 0, 0, 0, 0, 0, 0, 0, 0, 0, 0, 0, 0, 0, 0, 0, 0, 0, 0, 0, 0, 0, 0, 0,\n",
      "         0, 0, 0, 0, 0, 0, 0, 0, 0, 0, 0, 0, 0, 0, 0, 0, 0, 0, 0, 0, 0, 0, 0, 0,\n",
      "         0, 0, 0, 0, 0, 0, 0, 0, 0, 0, 0, 0, 0, 0, 0, 0, 0, 0],\n",
      "        [0, 0, 0, 0, 0, 0, 0, 0, 0, 0, 0, 0, 0, 0, 0, 0, 0, 0, 0, 0, 0, 0, 0, 0,\n",
      "         0, 0, 0, 0, 0, 0, 0, 0, 0, 0, 0, 0, 0, 0, 0, 0, 0, 0, 0, 0, 0, 0, 0, 0,\n",
      "         0, 0, 0, 0, 0, 0, 0, 0, 0, 0, 0, 0, 0, 0, 0, 0, 0, 0],\n",
      "        [0, 0, 0, 0, 0, 0, 0, 0, 0, 0, 0, 0, 0, 0, 0, 0, 0, 0, 0, 0, 0, 0, 0, 0,\n",
      "         0, 0, 0, 0, 0, 0, 0, 0, 0, 0, 0, 0, 0, 0, 0, 0, 0, 0, 0, 0, 0, 0, 0, 0,\n",
      "         0, 0, 0, 0, 0, 0, 0, 0, 0, 0, 0, 0, 0, 0, 0, 0, 0, 0],\n",
      "        [0, 0, 0, 0, 0, 0, 0, 0, 0, 0, 0, 0, 0, 0, 0, 0, 0, 0, 0, 0, 0, 0, 0, 0,\n",
      "         0, 0, 0, 0, 0, 0, 0, 0, 0, 0, 0, 0, 0, 0, 0, 0, 0, 0, 0, 0, 0, 0, 0, 0,\n",
      "         0, 0, 0, 0, 0, 0, 0, 0, 0, 0, 0, 0, 0, 0, 0, 0, 0, 0],\n",
      "        [0, 0, 0, 0, 0, 0, 0, 0, 0, 0, 0, 0, 0, 0, 0, 0, 0, 0, 0, 0, 0, 0, 0, 0,\n",
      "         0, 0, 0, 0, 0, 0, 0, 0, 0, 0, 0, 0, 0, 0, 0, 0, 0, 0, 0, 0, 0, 0, 0, 0,\n",
      "         0, 0, 0, 0, 0, 0, 0, 0, 0, 0, 0, 0, 0, 0, 0, 0, 0, 0],\n",
      "        [0, 0, 0, 0, 0, 0, 0, 0, 0, 0, 0, 0, 0, 0, 0, 0, 0, 0, 0, 0, 0, 0, 0, 0,\n",
      "         0, 0, 0, 0, 0, 0, 0, 0, 0, 0, 0, 0, 0, 0, 0, 0, 0, 0, 0, 0, 0, 0, 0, 0,\n",
      "         0, 0, 0, 0, 0, 0, 0, 0, 0, 0, 0, 0, 0, 0, 0, 0, 0, 0],\n",
      "        [0, 0, 0, 0, 0, 0, 0, 0, 0, 0, 0, 0, 0, 0, 0, 0, 0, 0, 0, 0, 0, 0, 0, 0,\n",
      "         0, 0, 0, 0, 0, 0, 0, 0, 0, 0, 0, 0, 0, 0, 0, 0, 0, 0, 0, 0, 0, 0, 0, 0,\n",
      "         0, 0, 0, 0, 0, 0, 0, 0, 0, 0, 0, 0, 0, 0, 0, 0, 0, 0]]), 'attention_mask': tensor([[1, 1, 1, 1, 1, 1, 1, 1, 1, 1, 1, 1, 1, 1, 1, 1, 1, 1, 1, 1, 1, 1, 1, 1,\n",
      "         1, 1, 1, 1, 1, 1, 1, 1, 1, 1, 1, 1, 0, 0, 0, 0, 0, 0, 0, 0, 0, 0, 0, 0,\n",
      "         0, 0, 0, 0, 0, 0, 0, 0, 0, 0, 0, 0, 0, 0, 0, 0, 0, 0],\n",
      "        [1, 1, 1, 1, 1, 1, 1, 1, 1, 1, 1, 1, 1, 1, 1, 1, 1, 1, 1, 1, 1, 1, 1, 1,\n",
      "         1, 1, 1, 0, 0, 0, 0, 0, 0, 0, 0, 0, 0, 0, 0, 0, 0, 0, 0, 0, 0, 0, 0, 0,\n",
      "         0, 0, 0, 0, 0, 0, 0, 0, 0, 0, 0, 0, 0, 0, 0, 0, 0, 0],\n",
      "        [1, 1, 1, 1, 1, 1, 1, 1, 1, 1, 1, 1, 1, 1, 1, 1, 1, 1, 0, 0, 0, 0, 0, 0,\n",
      "         0, 0, 0, 0, 0, 0, 0, 0, 0, 0, 0, 0, 0, 0, 0, 0, 0, 0, 0, 0, 0, 0, 0, 0,\n",
      "         0, 0, 0, 0, 0, 0, 0, 0, 0, 0, 0, 0, 0, 0, 0, 0, 0, 0],\n",
      "        [1, 1, 1, 1, 1, 1, 1, 1, 1, 1, 1, 1, 1, 1, 1, 1, 1, 1, 1, 1, 1, 1, 1, 1,\n",
      "         1, 1, 1, 1, 1, 1, 1, 0, 0, 0, 0, 0, 0, 0, 0, 0, 0, 0, 0, 0, 0, 0, 0, 0,\n",
      "         0, 0, 0, 0, 0, 0, 0, 0, 0, 0, 0, 0, 0, 0, 0, 0, 0, 0],\n",
      "        [1, 1, 1, 1, 1, 1, 1, 1, 1, 1, 1, 1, 1, 1, 1, 1, 1, 1, 0, 0, 0, 0, 0, 0,\n",
      "         0, 0, 0, 0, 0, 0, 0, 0, 0, 0, 0, 0, 0, 0, 0, 0, 0, 0, 0, 0, 0, 0, 0, 0,\n",
      "         0, 0, 0, 0, 0, 0, 0, 0, 0, 0, 0, 0, 0, 0, 0, 0, 0, 0],\n",
      "        [1, 1, 1, 1, 1, 1, 1, 1, 1, 1, 1, 1, 1, 1, 1, 1, 1, 1, 1, 1, 1, 1, 0, 0,\n",
      "         0, 0, 0, 0, 0, 0, 0, 0, 0, 0, 0, 0, 0, 0, 0, 0, 0, 0, 0, 0, 0, 0, 0, 0,\n",
      "         0, 0, 0, 0, 0, 0, 0, 0, 0, 0, 0, 0, 0, 0, 0, 0, 0, 0],\n",
      "        [1, 1, 1, 1, 1, 1, 1, 1, 1, 1, 1, 1, 1, 1, 1, 0, 0, 0, 0, 0, 0, 0, 0, 0,\n",
      "         0, 0, 0, 0, 0, 0, 0, 0, 0, 0, 0, 0, 0, 0, 0, 0, 0, 0, 0, 0, 0, 0, 0, 0,\n",
      "         0, 0, 0, 0, 0, 0, 0, 0, 0, 0, 0, 0, 0, 0, 0, 0, 0, 0],\n",
      "        [1, 1, 1, 1, 1, 1, 1, 1, 1, 1, 1, 1, 1, 1, 1, 1, 1, 1, 1, 1, 1, 1, 1, 1,\n",
      "         1, 1, 1, 1, 0, 0, 0, 0, 0, 0, 0, 0, 0, 0, 0, 0, 0, 0, 0, 0, 0, 0, 0, 0,\n",
      "         0, 0, 0, 0, 0, 0, 0, 0, 0, 0, 0, 0, 0, 0, 0, 0, 0, 0]])}\n"
     ]
    }
   ],
   "source": [
    "# for i, batch in enumerate(learner.dls.train_dl):\n",
    "    # print(len(batch))\n",
    "for i, batch in enumerate(dls.train_dl):\n",
    "    print(batch)"
   ]
  },
  {
   "cell_type": "code",
   "execution_count": null,
   "metadata": {},
   "outputs": [],
   "source": []
  },
  {
   "cell_type": "code",
   "execution_count": null,
   "metadata": {},
   "outputs": [],
   "source": []
  }
 ],
 "metadata": {
  "interpreter": {
   "hash": "3e5b6cb28458d38a3a51ae1fcc17b14fe2e0ac931760af92f410b7c2c57674e6"
  },
  "kernelspec": {
   "display_name": "Python 3.8.13 ('.venv': poetry)",
   "language": "python",
   "name": "python3"
  },
  "language_info": {
   "codemirror_mode": {
    "name": "ipython",
    "version": 3
   },
   "file_extension": ".py",
   "mimetype": "text/x-python",
   "name": "python",
   "nbconvert_exporter": "python",
   "pygments_lexer": "ipython3",
   "version": "3.8.13"
  },
  "orig_nbformat": 4
 },
 "nbformat": 4,
 "nbformat_minor": 2
}
