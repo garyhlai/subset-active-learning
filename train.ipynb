{
 "cells": [
  {
   "cell_type": "code",
   "execution_count": null,
   "metadata": {},
   "outputs": [],
   "source": [
    "\"\"\"\n",
    "\n",
    "# select 1000 unlabeled data to label \n",
    "\n",
    "selected_unlabeld_data = select_unlabeled_data(all_unlabeled_data, strategy=\"random\", num=1000)\n",
    "selected_unlabeld_data = select_unlabeled_data(all_unlabeled_data, strategy=\"uncertainty_sampling\", num=1000)\n",
    "selected_unlabeld_data = select_unlabeled_data(all_unlabeled_data, strategy=\"optimal_subset\", optimal_subset=optimal_subset)\n",
    "\n",
    "# label these data (in this case, we just get their labels from the HF dataset, because they are already labeled and we were only pretending that they were unlabeled)\n",
    "\n",
    "selected_labeled_data = label_data(selected_unlabeld_data, hf_data)\n",
    "\n",
    "# train the model with these newly labeled data and plot them out \n",
    "\n",
    "\"\"\""
   ]
  }
 ],
 "metadata": {
  "language_info": {
   "name": "python"
  },
  "orig_nbformat": 4
 },
 "nbformat": 4,
 "nbformat_minor": 2
}
