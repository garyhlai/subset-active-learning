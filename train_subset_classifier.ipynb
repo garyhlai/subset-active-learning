{
 "cells": [
  {
   "cell_type": "code",
   "execution_count": 1,
   "metadata": {},
   "outputs": [
    {
     "name": "stderr",
     "output_type": "stream",
     "text": [
      "/Users/garylai/Dev/subset-active-learning/.venv/lib/python3.8/site-packages/tqdm/auto.py:22: TqdmWarning: IProgress not found. Please update jupyter and ipywidgets. See https://ipywidgets.readthedocs.io/en/stable/user_install.html\n",
      "  from .autonotebook import tqdm as notebook_tqdm\n"
     ]
    }
   ],
   "source": [
    "import pandas as pd\n",
    "import sqlite3\n",
    "import sqlalchemy \n",
    "import json\n",
    "from datasets import load_dataset\n",
    "from collections import Counter\n",
    "from pydantic.dataclasses import dataclass\n",
    "from transformers import AutoTokenizer"
   ]
  },
  {
   "cell_type": "code",
   "execution_count": 2,
   "metadata": {},
   "outputs": [
    {
     "name": "stdout",
     "output_type": "stream",
     "text": [
      "Table Name : states\n"
     ]
    }
   ],
   "source": [
    "DB_PATH = \"./subset_selection/sst_results.db\"\n",
    "with sqlite3.connect(DB_PATH) as conn: \n",
    "    #Now in order to read in pandas dataframe we need to know table name\n",
    "    cursor = conn.cursor()\n",
    "    cursor.execute(\"SELECT name FROM sqlite_master WHERE type='table';\")\n",
    "    table_name = cursor.fetchall()[0][0]\n",
    "    print(f\"Table Name : {table_name}\")\n",
    "\n",
    "    df = pd.read_sql_query(f'SELECT * FROM {table_name}', conn)"
   ]
  },
  {
   "cell_type": "code",
   "execution_count": 3,
   "metadata": {},
   "outputs": [
    {
     "data": {
      "text/html": [
       "<div>\n",
       "<style scoped>\n",
       "    .dataframe tbody tr th:only-of-type {\n",
       "        vertical-align: middle;\n",
       "    }\n",
       "\n",
       "    .dataframe tbody tr th {\n",
       "        vertical-align: top;\n",
       "    }\n",
       "\n",
       "    .dataframe thead th {\n",
       "        text-align: right;\n",
       "    }\n",
       "</style>\n",
       "<table border=\"1\" class=\"dataframe\">\n",
       "  <thead>\n",
       "    <tr style=\"text-align: right;\">\n",
       "      <th></th>\n",
       "      <th>indexes</th>\n",
       "      <th>objective</th>\n",
       "    </tr>\n",
       "  </thead>\n",
       "  <tbody>\n",
       "    <tr>\n",
       "      <th>0</th>\n",
       "      <td>[787, 882, 40, 341, 477, 454, 227, 334, 837, 2...</td>\n",
       "      <td>0.000000</td>\n",
       "    </tr>\n",
       "    <tr>\n",
       "      <th>1</th>\n",
       "      <td>[787, 882, 40, 341, 477, 454, 227, 334, 837, 2...</td>\n",
       "      <td>0.690498</td>\n",
       "    </tr>\n",
       "    <tr>\n",
       "      <th>2</th>\n",
       "      <td>[787, 882, 40, 341, 477, 454, 227, 334, 837, 2...</td>\n",
       "      <td>0.697738</td>\n",
       "    </tr>\n",
       "    <tr>\n",
       "      <th>3</th>\n",
       "      <td>[787, 882, 40, 341, 477, 454, 227, 334, 837, 2...</td>\n",
       "      <td>0.690950</td>\n",
       "    </tr>\n",
       "    <tr>\n",
       "      <th>4</th>\n",
       "      <td>[787, 882, 40, 341, 477, 454, 227, 334, 837, 2...</td>\n",
       "      <td>0.709502</td>\n",
       "    </tr>\n",
       "    <tr>\n",
       "      <th>...</th>\n",
       "      <td>...</td>\n",
       "      <td>...</td>\n",
       "    </tr>\n",
       "    <tr>\n",
       "      <th>8566</th>\n",
       "      <td>[517, 882, 82, 341, 477, 381, 611, 377, 837, 2...</td>\n",
       "      <td>0.747964</td>\n",
       "    </tr>\n",
       "    <tr>\n",
       "      <th>8567</th>\n",
       "      <td>[48, 882, 82, 341, 477, 381, 611, 377, 837, 21...</td>\n",
       "      <td>0.752941</td>\n",
       "    </tr>\n",
       "    <tr>\n",
       "      <th>8568</th>\n",
       "      <td>[517, 882, 82, 341, 477, 381, 611, 377, 837, 2...</td>\n",
       "      <td>0.742081</td>\n",
       "    </tr>\n",
       "    <tr>\n",
       "      <th>8569</th>\n",
       "      <td>[517, 882, 82, 341, 477, 381, 611, 377, 837, 2...</td>\n",
       "      <td>0.751131</td>\n",
       "    </tr>\n",
       "    <tr>\n",
       "      <th>8570</th>\n",
       "      <td>[517, 882, 82, 341, 477, 381, 611, 377, 837, 2...</td>\n",
       "      <td>0.743439</td>\n",
       "    </tr>\n",
       "  </tbody>\n",
       "</table>\n",
       "<p>8571 rows × 2 columns</p>\n",
       "</div>"
      ],
      "text/plain": [
       "                                                indexes  objective\n",
       "0     [787, 882, 40, 341, 477, 454, 227, 334, 837, 2...   0.000000\n",
       "1     [787, 882, 40, 341, 477, 454, 227, 334, 837, 2...   0.690498\n",
       "2     [787, 882, 40, 341, 477, 454, 227, 334, 837, 2...   0.697738\n",
       "3     [787, 882, 40, 341, 477, 454, 227, 334, 837, 2...   0.690950\n",
       "4     [787, 882, 40, 341, 477, 454, 227, 334, 837, 2...   0.709502\n",
       "...                                                 ...        ...\n",
       "8566  [517, 882, 82, 341, 477, 381, 611, 377, 837, 2...   0.747964\n",
       "8567  [48, 882, 82, 341, 477, 381, 611, 377, 837, 21...   0.752941\n",
       "8568  [517, 882, 82, 341, 477, 381, 611, 377, 837, 2...   0.742081\n",
       "8569  [517, 882, 82, 341, 477, 381, 611, 377, 837, 2...   0.751131\n",
       "8570  [517, 882, 82, 341, 477, 381, 611, 377, 837, 2...   0.743439\n",
       "\n",
       "[8571 rows x 2 columns]"
      ]
     },
     "execution_count": 3,
     "metadata": {},
     "output_type": "execute_result"
    }
   ],
   "source": [
    "df"
   ]
  },
  {
   "cell_type": "code",
   "execution_count": 4,
   "metadata": {},
   "outputs": [],
   "source": [
    "optimal_subset_idx = df['objective'].idxmax()\n",
    "\n",
    "optimal_subset_data_indices = set(json.loads(df.iloc[optimal_subset_idx].indexes))"
   ]
  },
  {
   "cell_type": "code",
   "execution_count": 5,
   "metadata": {},
   "outputs": [],
   "source": [
    "# count the unique number of data points in each subset\n",
    "indexes_list = list(map(json.loads, df[\"indexes\"].to_list()))\n",
    "indexes_list = [item for sublist in indexes_list for item in sublist]\n",
    "indexes_set = set(indexes_list)\n",
    "indexes = list(map(json.loads, df[\"indexes\"].to_list()))\n",
    "unique_index_counts = list(map(lambda x: len(set(x)), indexes))\n",
    "subset_sizes = Counter(unique_index_counts)"
   ]
  },
  {
   "cell_type": "code",
   "execution_count": 6,
   "metadata": {},
   "outputs": [
    {
     "name": "stderr",
     "output_type": "stream",
     "text": [
      "No config specified, defaulting to: sst/default\n",
      "Reusing dataset sst (/Users/garylai/.cache/huggingface/datasets/sst/default/1.0.0/b8a7889ef01c5d3ae8c379b84cc4080f8aad3ac2bc538701cbe0ac6416fb76ff)\n",
      "100%|██████████| 3/3 [00:00<00:00, 309.03it/s]\n",
      "Loading cached shuffled indices for dataset at /Users/garylai/.cache/huggingface/datasets/sst/default/1.0.0/b8a7889ef01c5d3ae8c379b84cc4080f8aad3ac2bc538701cbe0ac6416fb76ff/cache-db8800a2b70639e2.arrow\n"
     ]
    }
   ],
   "source": [
    "sst2 = load_dataset(\"sst\")\n",
    "data_pool = sst2[\"train\"].shuffle(seed=0).select(range(1000))"
   ]
  },
  {
   "cell_type": "code",
   "execution_count": 26,
   "metadata": {},
   "outputs": [],
   "source": [
    "@dataclass(frozen=True)\n",
    "class OptimalSubsetClassifierConfig:\n",
    "    max_length: int = 66\n",
    "    debug: bool = False\n",
    "    model_name: str = \"google/electra-small-discriminator\"\n",
    "    batch_size: int = 8\n",
    "\n",
    "config = OptimalSubsetClassifierConfig()\n",
    "tokenizer = AutoTokenizer.from_pretrained(config.model_name)\n",
    "\n"
   ]
  },
  {
   "cell_type": "code",
   "execution_count": 32,
   "metadata": {},
   "outputs": [],
   "source": [
    "def preprocess(data):\n",
    "    def tokenize_func(examples, idx):\n",
    "            tokenized = tokenizer(\n",
    "                examples[\"sentence\"], padding=\"max_length\", max_length=config.max_length, truncation=True\n",
    "            )\n",
    "            tokenized[\"labels\"] = 1 if idx in optimal_subset_data_indices else 0\n",
    "            return tokenized\n",
    "\n",
    "\n",
    "    ds = data.map(\n",
    "        tokenize_func,\n",
    "        remove_columns=data.column_names,\n",
    "        batched=False,\n",
    "        with_indices=True\n",
    "    )\n",
    "\n",
    "    ds.set_format(type=\"torch\")\n",
    "\n",
    "\n",
    "\n",
    "    return ds"
   ]
  },
  {
   "cell_type": "code",
   "execution_count": 33,
   "metadata": {},
   "outputs": [
    {
     "name": "stderr",
     "output_type": "stream",
     "text": [
      "100%|██████████| 1000/1000 [00:00<00:00, 1613.53ex/s]\n"
     ]
    }
   ],
   "source": [
    "train_ds = preprocess(data_pool)"
   ]
  },
  {
   "cell_type": "code",
   "execution_count": 36,
   "metadata": {},
   "outputs": [],
   "source": [
    "assert int(train_ds[\"labels\"][3]) == 1"
   ]
  },
  {
   "cell_type": "code",
   "execution_count": 37,
   "metadata": {},
   "outputs": [],
   "source": [
    "# test the labels are correct\n",
    "for idx, label in enumerate(train_ds[\"labels\"]):\n",
    "    if idx in optimal_subset_data_indices:\n",
    "        assert int(label) == 1\n",
    "    else:\n",
    "        assert int(label) == 0"
   ]
  },
  {
   "cell_type": "code",
   "execution_count": null,
   "metadata": {},
   "outputs": [],
   "source": [
    "# preprocess the data in data pool"
   ]
  },
  {
   "cell_type": "code",
   "execution_count": null,
   "metadata": {},
   "outputs": [],
   "source": [
    "# train binary classifier "
   ]
  }
 ],
 "metadata": {
  "interpreter": {
   "hash": "3e5b6cb28458d38a3a51ae1fcc17b14fe2e0ac931760af92f410b7c2c57674e6"
  },
  "kernelspec": {
   "display_name": "Python 3.8.13 ('.venv': poetry)",
   "language": "python",
   "name": "python3"
  },
  "language_info": {
   "codemirror_mode": {
    "name": "ipython",
    "version": 3
   },
   "file_extension": ".py",
   "mimetype": "text/x-python",
   "name": "python",
   "nbconvert_exporter": "python",
   "pygments_lexer": "ipython3",
   "version": "3.8.13"
  },
  "orig_nbformat": 4
 },
 "nbformat": 4,
 "nbformat_minor": 2
}
