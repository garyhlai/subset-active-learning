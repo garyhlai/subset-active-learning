{
 "cells": [
  {
   "cell_type": "code",
   "execution_count": 22,
   "metadata": {},
   "outputs": [],
   "source": [
    "import pandas as pd\n",
    "import sqlite3\n",
    "import sqlalchemy \n",
    "import json\n",
    "from datasets import load_dataset"
   ]
  },
  {
   "cell_type": "code",
   "execution_count": null,
   "metadata": {},
   "outputs": [],
   "source": [
    "DB_PATH = \"./subset_selection/sst_results.db\"\n",
    "with sqlite3.connect(DB_PATH) as conn: \n",
    "    #Now in order to read in pandas dataframe we need to know table name\n",
    "    cursor = conn.cursor()\n",
    "    cursor.execute(\"SELECT name FROM sqlite_master WHERE type='table';\")\n",
    "    table_name = cursor.fetchall()[0][0]\n",
    "    print(f\"Table Name : {table_name}\")\n",
    "\n",
    "    df = pd.read_sql_query(f'SELECT * FROM {table_name}', conn)"
   ]
  },
  {
   "cell_type": "code",
   "execution_count": 4,
   "metadata": {},
   "outputs": [
    {
     "data": {
      "text/html": [
       "<div>\n",
       "<style scoped>\n",
       "    .dataframe tbody tr th:only-of-type {\n",
       "        vertical-align: middle;\n",
       "    }\n",
       "\n",
       "    .dataframe tbody tr th {\n",
       "        vertical-align: top;\n",
       "    }\n",
       "\n",
       "    .dataframe thead th {\n",
       "        text-align: right;\n",
       "    }\n",
       "</style>\n",
       "<table border=\"1\" class=\"dataframe\">\n",
       "  <thead>\n",
       "    <tr style=\"text-align: right;\">\n",
       "      <th></th>\n",
       "      <th>indexes</th>\n",
       "      <th>objective</th>\n",
       "    </tr>\n",
       "  </thead>\n",
       "  <tbody>\n",
       "    <tr>\n",
       "      <th>0</th>\n",
       "      <td>[787, 882, 40, 341, 477, 454, 227, 334, 837, 2...</td>\n",
       "      <td>0.000000</td>\n",
       "    </tr>\n",
       "    <tr>\n",
       "      <th>1</th>\n",
       "      <td>[787, 882, 40, 341, 477, 454, 227, 334, 837, 2...</td>\n",
       "      <td>0.690498</td>\n",
       "    </tr>\n",
       "    <tr>\n",
       "      <th>2</th>\n",
       "      <td>[787, 882, 40, 341, 477, 454, 227, 334, 837, 2...</td>\n",
       "      <td>0.697738</td>\n",
       "    </tr>\n",
       "    <tr>\n",
       "      <th>3</th>\n",
       "      <td>[787, 882, 40, 341, 477, 454, 227, 334, 837, 2...</td>\n",
       "      <td>0.690950</td>\n",
       "    </tr>\n",
       "    <tr>\n",
       "      <th>4</th>\n",
       "      <td>[787, 882, 40, 341, 477, 454, 227, 334, 837, 2...</td>\n",
       "      <td>0.709502</td>\n",
       "    </tr>\n",
       "    <tr>\n",
       "      <th>...</th>\n",
       "      <td>...</td>\n",
       "      <td>...</td>\n",
       "    </tr>\n",
       "    <tr>\n",
       "      <th>8566</th>\n",
       "      <td>[517, 882, 82, 341, 477, 381, 611, 377, 837, 2...</td>\n",
       "      <td>0.747964</td>\n",
       "    </tr>\n",
       "    <tr>\n",
       "      <th>8567</th>\n",
       "      <td>[48, 882, 82, 341, 477, 381, 611, 377, 837, 21...</td>\n",
       "      <td>0.752941</td>\n",
       "    </tr>\n",
       "    <tr>\n",
       "      <th>8568</th>\n",
       "      <td>[517, 882, 82, 341, 477, 381, 611, 377, 837, 2...</td>\n",
       "      <td>0.742081</td>\n",
       "    </tr>\n",
       "    <tr>\n",
       "      <th>8569</th>\n",
       "      <td>[517, 882, 82, 341, 477, 381, 611, 377, 837, 2...</td>\n",
       "      <td>0.751131</td>\n",
       "    </tr>\n",
       "    <tr>\n",
       "      <th>8570</th>\n",
       "      <td>[517, 882, 82, 341, 477, 381, 611, 377, 837, 2...</td>\n",
       "      <td>0.743439</td>\n",
       "    </tr>\n",
       "  </tbody>\n",
       "</table>\n",
       "<p>8571 rows × 2 columns</p>\n",
       "</div>"
      ],
      "text/plain": [
       "                                                indexes  objective\n",
       "0     [787, 882, 40, 341, 477, 454, 227, 334, 837, 2...   0.000000\n",
       "1     [787, 882, 40, 341, 477, 454, 227, 334, 837, 2...   0.690498\n",
       "2     [787, 882, 40, 341, 477, 454, 227, 334, 837, 2...   0.697738\n",
       "3     [787, 882, 40, 341, 477, 454, 227, 334, 837, 2...   0.690950\n",
       "4     [787, 882, 40, 341, 477, 454, 227, 334, 837, 2...   0.709502\n",
       "...                                                 ...        ...\n",
       "8566  [517, 882, 82, 341, 477, 381, 611, 377, 837, 2...   0.747964\n",
       "8567  [48, 882, 82, 341, 477, 381, 611, 377, 837, 21...   0.752941\n",
       "8568  [517, 882, 82, 341, 477, 381, 611, 377, 837, 2...   0.742081\n",
       "8569  [517, 882, 82, 341, 477, 381, 611, 377, 837, 2...   0.751131\n",
       "8570  [517, 882, 82, 341, 477, 381, 611, 377, 837, 2...   0.743439\n",
       "\n",
       "[8571 rows x 2 columns]"
      ]
     },
     "execution_count": 4,
     "metadata": {},
     "output_type": "execute_result"
    }
   ],
   "source": [
    "df"
   ]
  },
  {
   "cell_type": "code",
   "execution_count": 5,
   "metadata": {},
   "outputs": [
    {
     "data": {
      "text/plain": [
       "7227"
      ]
     },
     "execution_count": 5,
     "metadata": {},
     "output_type": "execute_result"
    }
   ],
   "source": [
    "df['objective'].idxmax()"
   ]
  },
  {
   "cell_type": "code",
   "execution_count": 34,
   "metadata": {},
   "outputs": [],
   "source": [
    "optimal_subset = set(json.loads(df.iloc[7227].indexes))"
   ]
  },
  {
   "cell_type": "code",
   "execution_count": 36,
   "metadata": {},
   "outputs": [
    {
     "data": {
      "text/plain": [
       "96"
      ]
     },
     "execution_count": 36,
     "metadata": {},
     "output_type": "execute_result"
    }
   ],
   "source": [
    "len(optimal_subset)"
   ]
  },
  {
   "cell_type": "code",
   "execution_count": 11,
   "metadata": {},
   "outputs": [],
   "source": [
    "indexes_list = list(map(json.loads, df[\"indexes\"].to_list()))\n",
    "indexes_list = [item for sublist in indexes_list for item in sublist]\n",
    "indexes_set = set(indexes_list)"
   ]
  },
  {
   "cell_type": "code",
   "execution_count": 25,
   "metadata": {},
   "outputs": [
    {
     "name": "stderr",
     "output_type": "stream",
     "text": [
      "No config specified, defaulting to: sst/default\n",
      "Reusing dataset sst (/Users/garylai/.cache/huggingface/datasets/sst/default/1.0.0/b8a7889ef01c5d3ae8c379b84cc4080f8aad3ac2bc538701cbe0ac6416fb76ff)\n",
      "100%|██████████| 3/3 [00:00<00:00, 405.23it/s]\n"
     ]
    }
   ],
   "source": [
    "sst2 = load_dataset(\"sst\")"
   ]
  },
  {
   "cell_type": "code",
   "execution_count": 27,
   "metadata": {},
   "outputs": [],
   "source": [
    "data_pool = sst2[\"train\"].shuffle(seed=0).select(range(1000))"
   ]
  },
  {
   "cell_type": "code",
   "execution_count": 30,
   "metadata": {},
   "outputs": [
    {
     "data": {
      "text/plain": [
       "1000"
      ]
     },
     "execution_count": 30,
     "metadata": {},
     "output_type": "execute_result"
    }
   ],
   "source": [
    "len(data_pool[\"sentence\"])"
   ]
  },
  {
   "cell_type": "code",
   "execution_count": null,
   "metadata": {},
   "outputs": [],
   "source": [
    "def preprocess(data):\n",
    "    data = data.rename_column(\"label\", \"scalar_label\")\n",
    "    data = data.map(lambda x: {\"label\": 1 if data in optimal_subset else 0})\n",
    "    \n"
   ]
  },
  {
   "cell_type": "code",
   "execution_count": null,
   "metadata": {},
   "outputs": [],
   "source": [
    "# preprocess the data in data pool"
   ]
  }
 ],
 "metadata": {
  "interpreter": {
   "hash": "3e5b6cb28458d38a3a51ae1fcc17b14fe2e0ac931760af92f410b7c2c57674e6"
  },
  "kernelspec": {
   "display_name": "Python 3.8.13 ('.venv': poetry)",
   "language": "python",
   "name": "python3"
  },
  "language_info": {
   "codemirror_mode": {
    "name": "ipython",
    "version": 3
   },
   "file_extension": ".py",
   "mimetype": "text/x-python",
   "name": "python",
   "nbconvert_exporter": "python",
   "pygments_lexer": "ipython3",
   "version": "3.8.13"
  },
  "orig_nbformat": 4
 },
 "nbformat": 4,
 "nbformat_minor": 2
}
