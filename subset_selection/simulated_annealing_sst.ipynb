{
 "cells": [
  {
   "cell_type": "code",
   "execution_count": 1,
   "id": "2358595c",
   "metadata": {
    "scrolled": false
   },
   "outputs": [
    {
     "name": "stderr",
     "output_type": "stream",
     "text": [
      "2022-05-07 05:39:51.280024: W tensorflow/stream_executor/platform/default/dso_loader.cc:64] Could not load dynamic library 'libcudart.so.11.0'; dlerror: libcudart.so.11.0: cannot open shared object file: No such file or directory; LD_LIBRARY_PATH: /usr/local/cuda-10.1/lib64\n",
      "2022-05-07 05:39:51.280061: I tensorflow/stream_executor/cuda/cudart_stub.cc:29] Ignore above cudart dlerror if you do not have a GPU set up on your machine.\n"
     ]
    }
   ],
   "source": [
    "import os\n",
    "import sqlite3\n",
    "import json\n",
    "import random\n",
    "import seaborn as sns\n",
    "from tqdm.notebook import tqdm\n",
    "\n",
    "import torch\n",
    "import numpy as np\n",
    "import datasets\n",
    "import transformers\n",
    "import wandb\n",
    "from transformers import AutoTokenizer, AutoModelForSequenceClassification, AutoConfig\n",
    "from transformers import TrainingArguments, Trainer, EarlyStoppingCallback, DataCollator"
   ]
  },
  {
   "cell_type": "code",
   "execution_count": 2,
   "id": "1bdc01e8",
   "metadata": {
    "tags": [
     "parameters"
    ]
   },
   "outputs": [],
   "source": [
    "seed = 0\n",
    "annealing_runs = 5000\n",
    "n_downsample = 1000\n",
    "n_search = 100\n",
    "db_name = 'sst_results'\n",
    "anneal_factor = 0.1\n",
    "\n",
    "model_card = \"google/electra-small-discriminator\"\n",
    "pretraining = True\n",
    "max_steps = 6000\n",
    "eval_steps = 300\n",
    "learning_rate = 1e-5\n",
    "batch_size = 8\n",
    "# adam should default to correct_bias = True\n",
    "adam_epsilon = 1e-6\n",
    "adam_beta1 = 0.9\n",
    "adam_beta2 = 0.999\n",
    "max_grad_norm = 1.0\n",
    "warmup_ratio = 0.1\n",
    "weight_decay = 0.01"
   ]
  },
  {
   "cell_type": "code",
   "execution_count": 3,
   "id": "0342ef26",
   "metadata": {},
   "outputs": [],
   "source": [
    "device = 'cuda' if torch.cuda.is_available() else 'cpu'"
   ]
  },
  {
   "cell_type": "code",
   "execution_count": 4,
   "id": "a76fb0a9",
   "metadata": {},
   "outputs": [
    {
     "data": {
      "text/plain": [
       "'NVIDIA GeForce GTX 1080 Ti'"
      ]
     },
     "execution_count": 4,
     "metadata": {},
     "output_type": "execute_result"
    }
   ],
   "source": [
    "torch.cuda.get_device_name(0)"
   ]
  },
  {
   "cell_type": "code",
   "execution_count": 5,
   "id": "78ab1579",
   "metadata": {},
   "outputs": [],
   "source": [
    "tokenizer = AutoTokenizer.from_pretrained(model_card)"
   ]
  },
  {
   "cell_type": "code",
   "execution_count": 6,
   "id": "e0e305ed",
   "metadata": {},
   "outputs": [
    {
     "name": "stderr",
     "output_type": "stream",
     "text": [
      "No config specified, defaulting to: sst/default\n",
      "Reusing dataset sst (/home/johnny/.cache/huggingface/datasets/sst/default/1.0.0/b8a7889ef01c5d3ae8c379b84cc4080f8aad3ac2bc538701cbe0ac6416fb76ff)\n"
     ]
    },
    {
     "data": {
      "application/vnd.jupyter.widget-view+json": {
       "model_id": "fa50231e4bc44197aa1b1368574c9a93",
       "version_major": 2,
       "version_minor": 0
      },
      "text/plain": [
       "  0%|          | 0/3 [00:00<?, ?it/s]"
      ]
     },
     "metadata": {},
     "output_type": "display_data"
    }
   ],
   "source": [
    "sst2 = datasets.load_dataset('sst')"
   ]
  },
  {
   "cell_type": "code",
   "execution_count": 7,
   "id": "b807fe67",
   "metadata": {},
   "outputs": [
    {
     "data": {
      "text/plain": [
       "DatasetDict({\n",
       "    train: Dataset({\n",
       "        features: ['sentence', 'label', 'tokens', 'tree'],\n",
       "        num_rows: 8544\n",
       "    })\n",
       "    validation: Dataset({\n",
       "        features: ['sentence', 'label', 'tokens', 'tree'],\n",
       "        num_rows: 1101\n",
       "    })\n",
       "    test: Dataset({\n",
       "        features: ['sentence', 'label', 'tokens', 'tree'],\n",
       "        num_rows: 2210\n",
       "    })\n",
       "})"
      ]
     },
     "execution_count": 7,
     "metadata": {},
     "output_type": "execute_result"
    }
   ],
   "source": [
    "sst2"
   ]
  },
  {
   "cell_type": "code",
   "execution_count": 8,
   "id": "6611ecce",
   "metadata": {},
   "outputs": [
    {
     "data": {
      "text/plain": [
       "66"
      ]
     },
     "execution_count": 8,
     "metadata": {},
     "output_type": "execute_result"
    }
   ],
   "source": [
    "'''\n",
    "def tokenize_function(examples, field='sentence'):\n",
    "    return tokenizer(examples[field], padding=False, truncation=True)\n",
    "tokenized_sst2 = sst2.map(tokenize_function, batched=True)\n",
    "lengths = [len(i) for i in tokenized_sst2['train']['input_ids']]\n",
    "max_length = np.quantile(lengths, 0.9)\n",
    "max_length = np.max(lengths)\n",
    "'''\n",
    "max_length = 66\n",
    "max_length"
   ]
  },
  {
   "cell_type": "code",
   "execution_count": 9,
   "id": "138b7140",
   "metadata": {},
   "outputs": [
    {
     "name": "stderr",
     "output_type": "stream",
     "text": [
      "Loading cached processed dataset at /home/johnny/.cache/huggingface/datasets/sst/default/1.0.0/b8a7889ef01c5d3ae8c379b84cc4080f8aad3ac2bc538701cbe0ac6416fb76ff/cache-2490800be235e365.arrow\n"
     ]
    },
    {
     "data": {
      "application/vnd.jupyter.widget-view+json": {
       "model_id": "d8e9738f7eca401ca7964067d44ea1ed",
       "version_major": 2,
       "version_minor": 0
      },
      "text/plain": [
       "  0%|          | 0/1101 [00:00<?, ?ex/s]"
      ]
     },
     "metadata": {},
     "output_type": "display_data"
    },
    {
     "name": "stderr",
     "output_type": "stream",
     "text": [
      "Loading cached processed dataset at /home/johnny/.cache/huggingface/datasets/sst/default/1.0.0/b8a7889ef01c5d3ae8c379b84cc4080f8aad3ac2bc538701cbe0ac6416fb76ff/cache-ecdebd119929fae1.arrow\n"
     ]
    }
   ],
   "source": [
    "def tokenize_function(examples, field='sentence'):\n",
    "    return tokenizer(examples[field], padding='max_length', max_length=max_length, truncation=True)\n",
    "\n",
    "tokenized_sst2 = sst2.map(tokenize_function, batched=False)"
   ]
  },
  {
   "cell_type": "code",
   "execution_count": 10,
   "id": "5b64e401",
   "metadata": {},
   "outputs": [
    {
     "name": "stderr",
     "output_type": "stream",
     "text": [
      "Loading cached processed dataset at /home/johnny/.cache/huggingface/datasets/sst/default/1.0.0/b8a7889ef01c5d3ae8c379b84cc4080f8aad3ac2bc538701cbe0ac6416fb76ff/cache-cb535ba06d831740.arrow\n"
     ]
    },
    {
     "data": {
      "application/vnd.jupyter.widget-view+json": {
       "model_id": "5a8e2218e6e04e13aa2d1a58e41e5f0a",
       "version_major": 2,
       "version_minor": 0
      },
      "text/plain": [
       "  0%|          | 0/1101 [00:00<?, ?ex/s]"
      ]
     },
     "metadata": {},
     "output_type": "display_data"
    },
    {
     "name": "stderr",
     "output_type": "stream",
     "text": [
      "Loading cached processed dataset at /home/johnny/.cache/huggingface/datasets/sst/default/1.0.0/b8a7889ef01c5d3ae8c379b84cc4080f8aad3ac2bc538701cbe0ac6416fb76ff/cache-e7a743503717c0b8.arrow\n"
     ]
    },
    {
     "name": "stdout",
     "output_type": "stream",
     "text": [
      "['Fails to bring as much to the table .', 'A film made with as little wit , interest , and professionalism as artistically possible for a slummy Hollywood caper flick .', 'Disturbingly superficial in its approach to the material .', \"If you 're not the target demographic ... this movie is one long chick-flick slog .\", 'I hate this movie', 'An imaginative comedy\\\\/thriller .', '( A ) rare , beautiful film .', '( An ) hilarious romantic comedy .', 'Never ( sinks ) into exploitation .', '( U ) nrelentingly stupid .']\n",
      "[0, 0, 0, 0, 0, 1, 1, 1, 1, 0]\n"
     ]
    }
   ],
   "source": [
    "# binarize label\n",
    "tokenized_sst2 = tokenized_sst2.rename_column('label', 'scalar_label')\n",
    "tokenized_sst2 = tokenized_sst2.map(lambda x: {'labels' : 0 if x['scalar_label'] < 0.5 else 1})\n",
    "\n",
    "print(tokenized_sst2['test'][-10:]['sentence'])\n",
    "print(tokenized_sst2['test'][-10:]['labels'])"
   ]
  },
  {
   "cell_type": "code",
   "execution_count": 11,
   "id": "69d37986",
   "metadata": {},
   "outputs": [],
   "source": [
    "tokenized_sst2.set_format(type='torch', columns=['input_ids', 'token_type_ids', 'attention_mask', 'labels'])"
   ]
  },
  {
   "cell_type": "code",
   "execution_count": 12,
   "id": "df946ad7",
   "metadata": {},
   "outputs": [],
   "source": [
    "sst2_downsample = tokenized_sst2['train'].shuffle(seed=seed).select(range(0, n_downsample))"
   ]
  },
  {
   "cell_type": "code",
   "execution_count": 13,
   "id": "c1cfa624",
   "metadata": {},
   "outputs": [],
   "source": [
    "val_dataloader = torch.utils.data.DataLoader(tokenized_sst2['validation'], shuffle=False, batch_size=batch_size, pin_memory=True)\n",
    "test_dataloader = torch.utils.data.DataLoader(tokenized_sst2['test'], shuffle=False, batch_size=batch_size, pin_memory=True)"
   ]
  },
  {
   "cell_type": "code",
   "execution_count": 14,
   "id": "dabbe365",
   "metadata": {},
   "outputs": [],
   "source": [
    "def create_hf(model_card, num_labels=2):\n",
    "    tokenizer = AutoTokenizer.from_pretrained(model_card)\n",
    "    model = AutoModelForSequenceClassification.from_pretrained(model_card, num_labels=num_labels)\n",
    "    return model, tokenizer"
   ]
  },
  {
   "cell_type": "code",
   "execution_count": 15,
   "id": "3dc49dae",
   "metadata": {},
   "outputs": [],
   "source": [
    "metric = datasets.load_metric(\"accuracy\")\n",
    "\n",
    "def compute_metrics(eval_pred):\n",
    "    logits, labels = eval_pred\n",
    "    predictions = np.argmax(logits, axis=-1)\n",
    "    return metric.compute(predictions=predictions, references=labels)"
   ]
  },
  {
   "cell_type": "code",
   "execution_count": 16,
   "id": "84ca1a9a",
   "metadata": {},
   "outputs": [],
   "source": [
    "try:\n",
    "    con = sqlite3.connect('%s.db' % db_name)\n",
    "    cur = con.cursor()\n",
    "    cur.execute('''CREATE TABLE states\n",
    "                   (indexes text, objective real)''')\n",
    "    cur.execute('''CREATE INDEX idx_objective \n",
    "                    ON states (objective);''')\n",
    "    \n",
    "    # start from a random sample\n",
    "    random_idx = np.random.choice(np.arange(0, n_downsample), n_search)\n",
    "    cur.execute(\"INSERT INTO states VALUES ('%s', 0)\" % json.dumps(random_idx.tolist()))\n",
    "except:\n",
    "    pass\n",
    "finally:\n",
    "    con.commit()\n",
    "    con.close()"
   ]
  },
  {
   "cell_type": "code",
   "execution_count": 17,
   "id": "3c25fe2f",
   "metadata": {},
   "outputs": [],
   "source": [
    "def get_nth_best(n):\n",
    "    try:\n",
    "        con = sqlite3.connect('%s.db' % db_name)\n",
    "        cur = con.cursor()\n",
    "        cur.execute(\"SELECT * FROM states ORDER BY objective DESC LIMIT 1 OFFSET %d\" % n)\n",
    "        r = cur.fetchone()\n",
    "    finally:\n",
    "        con.close()\n",
    "    return (np.array(json.loads(r[0])), r[1])\n",
    "\n",
    "def get_num_runs():\n",
    "    try:\n",
    "        con = sqlite3.connect('%s.db' % db_name)\n",
    "        cur = con.cursor()\n",
    "        cur.execute(\"SELECT COUNT(objective) FROM states\")\n",
    "        r = cur.fetchone()[0]\n",
    "        con.commit()\n",
    "    finally:\n",
    "        con.close()\n",
    "    return r\n",
    "\n",
    "def insert_run(idx, obj):\n",
    "    try:\n",
    "        con = sqlite3.connect('%s.db' % db_name)\n",
    "        cur = con.cursor()\n",
    "        cur.execute(\"INSERT INTO states VALUES ('%s', %.8f)\" % (json.dumps(idx.tolist()), obj))\n",
    "        con.commit()\n",
    "    finally:\n",
    "        con.close()"
   ]
  },
  {
   "cell_type": "code",
   "execution_count": 18,
   "id": "62a1fe68",
   "metadata": {},
   "outputs": [],
   "source": [
    "def transition(idx, n):\n",
    "    total_idx = np.arange(n_downsample)\n",
    "    not_in = np.setdiff1d(total_idx, idx)\n",
    "    a = np.random.choice(not_in)\n",
    "    b = random.randint(0, len(idx) - 1)\n",
    "    new_idx = idx.copy()\n",
    "    print(new_idx[b], a)\n",
    "    new_idx[b] = a\n",
    "    return new_idx"
   ]
  },
  {
   "cell_type": "code",
   "execution_count": 19,
   "id": "e2808f16",
   "metadata": {},
   "outputs": [],
   "source": [
    "def evaluate(model, val_dataloader):\n",
    "    model.eval()\n",
    "    val_pbar = tqdm(total=len(val_dataloader))\n",
    "    for batch in val_dataloader:\n",
    "        batch = {k: v.to(device) for k, v in batch.items()}\n",
    "        with torch.no_grad():\n",
    "            outputs = model(**batch)\n",
    "\n",
    "        logits = outputs.logits\n",
    "        predictions = torch.argmax(logits, dim=-1)\n",
    "        metric.add_batch(predictions=predictions, references=batch[\"labels\"])\n",
    "        val_pbar.update(1)\n",
    "\n",
    "    eval_dict = metric.compute()\n",
    "    val_pbar.set_description('Acc: %.2f' % eval_dict['accuracy'])\n",
    "    \n",
    "    return eval_dict"
   ]
  },
  {
   "cell_type": "code",
   "execution_count": 20,
   "id": "005081a1",
   "metadata": {},
   "outputs": [],
   "source": [
    "def train(model, train_dataset, tolerance=2):\n",
    "    steps = 0\n",
    "    epochs = 0\n",
    "    best_acc = None\n",
    "    patience = 0\n",
    "    pbar = tqdm(total=max_steps)\n",
    "    train_dataloader = torch.utils.data.DataLoader(train_dataset, shuffle=True, batch_size=batch_size, pin_memory=True)\n",
    "    it = iter(train_dataloader)\n",
    "\n",
    "    optimizer = torch.optim.AdamW(params=model.parameters(), lr=learning_rate, betas=(adam_beta1, adam_beta2), eps=adam_epsilon, weight_decay=weight_decay)\n",
    "    lr_scheduler = transformers.get_scheduler(\"linear\", optimizer=optimizer, num_warmup_steps=warmup_ratio*max_steps, num_training_steps=max_steps)\n",
    "\n",
    "    while steps < max_steps:\n",
    "        # training\n",
    "        model.train()\n",
    "        total_loss = 0.\n",
    "\n",
    "        try:\n",
    "            batch = next(it)\n",
    "        except:\n",
    "            epochs += 1\n",
    "            it = iter(train_dataloader)\n",
    "            batch = next(it)\n",
    "\n",
    "        steps += 1\n",
    "        batch = {k: v.to(device) for k, v in batch.items()}\n",
    "        outputs = model(**batch)\n",
    "        loss = outputs.loss\n",
    "        loss.backward()\n",
    "        total_loss += loss.cpu()\n",
    "\n",
    "        wandb.log({'loss' : loss})\n",
    "\n",
    "        torch.nn.utils.clip_grad_norm_(model.parameters(), max_grad_norm)\n",
    "        optimizer.step()\n",
    "        lr_scheduler.step()\n",
    "        optimizer.zero_grad()\n",
    "\n",
    "        pbar.set_description('Epoch: %d, Avg batch loss: %.2f' % (epochs, total_loss / steps))\n",
    "        pbar.update(1)\n",
    "\n",
    "        if steps % eval_steps == 0:\n",
    "            model.eval()\n",
    "            eval_dict = evaluate(model, val_dataloader)\n",
    "            wandb.log({'sst:val_acc' : eval_dict['accuracy']})\n",
    "            \n",
    "            # early stopping\n",
    "            if not best_acc or eval_dict['accuracy'] > best_acc:\n",
    "                best_acc = eval_dict['accuracy']\n",
    "            else:\n",
    "                patience += 1\n",
    "            \n",
    "            if patience >= tolerance:\n",
    "                break"
   ]
  },
  {
   "cell_type": "code",
   "execution_count": 21,
   "id": "1ee7607e",
   "metadata": {
    "scrolled": false
   },
   "outputs": [],
   "source": [
    "def one_run():\n",
    "    torch.backends.cudnn.deterministic = True\n",
    "    torch.manual_seed(seed)\n",
    "    torch.cuda.manual_seed(seed)\n",
    "    # controls transition sampling\n",
    "    # random.seed(seed)\n",
    "    # np.random.seed(seed)\n",
    "\n",
    "    i = get_num_runs()\n",
    "    ratio = (annealing_runs - i) / annealing_runs if i < annealing_runs else 0\n",
    "    idx = random.randint(0, int(ratio * i))\n",
    "    idx, quality = get_nth_best(idx)\n",
    "    \n",
    "    new_idx = transition(idx, n_downsample)\n",
    "    train_dataset = sst2_downsample.select(new_idx)\n",
    "    assert(len(train_dataset) == n_search)\n",
    "    \n",
    "    model, tokenizer = create_hf(model_card, num_labels=2)\n",
    "    model.to(device)\n",
    "    \n",
    "    wandb.init(project=\"simulated_annealing-sst\", entity=\"johntzwei\", tags=[model_card])\n",
    "    wandb.log({'n_downsample' : n_downsample})\n",
    "    wandb.log({'n_search' : n_search})\n",
    "    wandb.log({'model_card' : model_card})\n",
    "    wandb.log({'indexes' : json.dumps(idx.tolist())})\n",
    "\n",
    "    train(model, train_dataset)\n",
    "    eval_dict = evaluate(model, test_dataloader)\n",
    "    eval_dict = {'sst2_test:%s' % k : v for k, v in eval_dict.items()}\n",
    "    new_quality = eval_dict['sst2_test:accuracy']\n",
    "    wandb.log(eval_dict)\n",
    "    \n",
    "    insert_run(new_idx, new_quality)"
   ]
  },
  {
   "cell_type": "code",
   "execution_count": null,
   "id": "4087135a",
   "metadata": {},
   "outputs": [
    {
     "name": "stdout",
     "output_type": "stream",
     "text": [
      "475 633\n"
     ]
    },
    {
     "name": "stderr",
     "output_type": "stream",
     "text": [
      "Some weights of the model checkpoint at bert-base-cased were not used when initializing BertForSequenceClassification: ['cls.predictions.transform.LayerNorm.bias', 'cls.predictions.bias', 'cls.seq_relationship.weight', 'cls.predictions.transform.dense.bias', 'cls.seq_relationship.bias', 'cls.predictions.transform.LayerNorm.weight', 'cls.predictions.decoder.weight', 'cls.predictions.transform.dense.weight']\n",
      "- This IS expected if you are initializing BertForSequenceClassification from the checkpoint of a model trained on another task or with another architecture (e.g. initializing a BertForSequenceClassification model from a BertForPreTraining model).\n",
      "- This IS NOT expected if you are initializing BertForSequenceClassification from the checkpoint of a model that you expect to be exactly identical (initializing a BertForSequenceClassification model from a BertForSequenceClassification model).\n",
      "Some weights of BertForSequenceClassification were not initialized from the model checkpoint at bert-base-cased and are newly initialized: ['classifier.bias', 'classifier.weight']\n",
      "You should probably TRAIN this model on a down-stream task to be able to use it for predictions and inference.\n",
      "\u001b[34m\u001b[1mwandb\u001b[0m: Currently logged in as: \u001b[33mjohntzwei\u001b[0m (use `wandb login --relogin` to force relogin)\n"
     ]
    },
    {
     "name": "stdout",
     "output_type": "stream",
     "text": [
      "huggingface/tokenizers: The current process just got forked, after parallelism has already been used. Disabling parallelism to avoid deadlocks...\n",
      "To disable this warning, you can either:\n",
      "\t- Avoid using `tokenizers` before the fork if possible\n",
      "\t- Explicitly set the environment variable TOKENIZERS_PARALLELISM=(true | false)\n",
      "huggingface/tokenizers: The current process just got forked, after parallelism has already been used. Disabling parallelism to avoid deadlocks...\n",
      "To disable this warning, you can either:\n",
      "\t- Avoid using `tokenizers` before the fork if possible\n",
      "\t- Explicitly set the environment variable TOKENIZERS_PARALLELISM=(true | false)\n"
     ]
    },
    {
     "name": "stderr",
     "output_type": "stream",
     "text": [
      "\u001b[34m\u001b[1mwandb\u001b[0m: wandb version 0.12.16 is available!  To upgrade, please run:\n",
      "\u001b[34m\u001b[1mwandb\u001b[0m:  $ pip install wandb --upgrade\n",
      "2022-05-07 05:40:25.100748: W tensorflow/stream_executor/platform/default/dso_loader.cc:64] Could not load dynamic library 'libcudart.so.11.0'; dlerror: libcudart.so.11.0: cannot open shared object file: No such file or directory; LD_LIBRARY_PATH: /usr/local/cuda-10.1/lib64\n",
      "2022-05-07 05:40:25.100788: I tensorflow/stream_executor/cuda/cudart_stub.cc:29] Ignore above cudart dlerror if you do not have a GPU set up on your machine.\n"
     ]
    },
    {
     "data": {
      "text/html": [
       "\n",
       "                    Syncing run <strong><a href=\"https://wandb.ai/johntzwei/simulated_annealing-sst/runs/23a2i1x2\" target=\"_blank\">fearless-deluge-22053</a></strong> to <a href=\"https://wandb.ai/johntzwei/simulated_annealing-sst\" target=\"_blank\">Weights & Biases</a> (<a href=\"https://docs.wandb.com/integrations/jupyter.html\" target=\"_blank\">docs</a>).<br/>\n",
       "\n",
       "                "
      ],
      "text/plain": [
       "<IPython.core.display.HTML object>"
      ]
     },
     "metadata": {},
     "output_type": "display_data"
    },
    {
     "data": {
      "application/vnd.jupyter.widget-view+json": {
       "model_id": "0b7fd751cc9a4509b233eed86c28e4f4",
       "version_major": 2,
       "version_minor": 0
      },
      "text/plain": [
       "  0%|          | 0/6000 [00:00<?, ?it/s]"
      ]
     },
     "metadata": {},
     "output_type": "display_data"
    },
    {
     "data": {
      "application/vnd.jupyter.widget-view+json": {
       "model_id": "a31f04ab5e414653b46ea4272f72f084",
       "version_major": 2,
       "version_minor": 0
      },
      "text/plain": [
       "  0%|          | 0/138 [00:00<?, ?it/s]"
      ]
     },
     "metadata": {},
     "output_type": "display_data"
    },
    {
     "data": {
      "application/vnd.jupyter.widget-view+json": {
       "model_id": "2cd2fb9a98f9411c91071645089f45b8",
       "version_major": 2,
       "version_minor": 0
      },
      "text/plain": [
       "  0%|          | 0/138 [00:00<?, ?it/s]"
      ]
     },
     "metadata": {},
     "output_type": "display_data"
    },
    {
     "data": {
      "application/vnd.jupyter.widget-view+json": {
       "model_id": "888d27adfd6b4999a352f42addba9cc2",
       "version_major": 2,
       "version_minor": 0
      },
      "text/plain": [
       "  0%|          | 0/138 [00:00<?, ?it/s]"
      ]
     },
     "metadata": {},
     "output_type": "display_data"
    },
    {
     "data": {
      "application/vnd.jupyter.widget-view+json": {
       "model_id": "0461930013fb4a139ffc08fe1938bd80",
       "version_major": 2,
       "version_minor": 0
      },
      "text/plain": [
       "  0%|          | 0/138 [00:00<?, ?it/s]"
      ]
     },
     "metadata": {},
     "output_type": "display_data"
    },
    {
     "data": {
      "application/vnd.jupyter.widget-view+json": {
       "model_id": "2de68b8607534536bc8fccb432efd9bb",
       "version_major": 2,
       "version_minor": 0
      },
      "text/plain": [
       "  0%|          | 0/138 [00:00<?, ?it/s]"
      ]
     },
     "metadata": {},
     "output_type": "display_data"
    },
    {
     "data": {
      "application/vnd.jupyter.widget-view+json": {
       "model_id": "030322d42bbc43d69f99c900f4d7281d",
       "version_major": 2,
       "version_minor": 0
      },
      "text/plain": [
       "  0%|          | 0/138 [00:00<?, ?it/s]"
      ]
     },
     "metadata": {},
     "output_type": "display_data"
    },
    {
     "data": {
      "application/vnd.jupyter.widget-view+json": {
       "model_id": "c3528dcfcfe345599839603b3c30d9eb",
       "version_major": 2,
       "version_minor": 0
      },
      "text/plain": [
       "  0%|          | 0/277 [00:00<?, ?it/s]"
      ]
     },
     "metadata": {},
     "output_type": "display_data"
    },
    {
     "name": "stdout",
     "output_type": "stream",
     "text": [
      "511 550\n"
     ]
    },
    {
     "name": "stderr",
     "output_type": "stream",
     "text": [
      "Some weights of the model checkpoint at bert-base-cased were not used when initializing BertForSequenceClassification: ['cls.predictions.transform.LayerNorm.bias', 'cls.predictions.bias', 'cls.seq_relationship.weight', 'cls.predictions.transform.dense.bias', 'cls.seq_relationship.bias', 'cls.predictions.transform.LayerNorm.weight', 'cls.predictions.decoder.weight', 'cls.predictions.transform.dense.weight']\n",
      "- This IS expected if you are initializing BertForSequenceClassification from the checkpoint of a model trained on another task or with another architecture (e.g. initializing a BertForSequenceClassification model from a BertForPreTraining model).\n",
      "- This IS NOT expected if you are initializing BertForSequenceClassification from the checkpoint of a model that you expect to be exactly identical (initializing a BertForSequenceClassification model from a BertForSequenceClassification model).\n",
      "Some weights of BertForSequenceClassification were not initialized from the model checkpoint at bert-base-cased and are newly initialized: ['classifier.bias', 'classifier.weight']\n",
      "You should probably TRAIN this model on a down-stream task to be able to use it for predictions and inference.\n"
     ]
    },
    {
     "data": {
      "text/html": [
       "Finishing last run (ID:23a2i1x2) before initializing another..."
      ],
      "text/plain": [
       "<IPython.core.display.HTML object>"
      ]
     },
     "metadata": {},
     "output_type": "display_data"
    },
    {
     "data": {
      "text/html": [
       "<br/>Waiting for W&B process to finish, PID 47508... <strong style=\"color:green\">(success).</strong>"
      ],
      "text/plain": [
       "<IPython.core.display.HTML object>"
      ]
     },
     "metadata": {},
     "output_type": "display_data"
    },
    {
     "data": {
      "application/vnd.jupyter.widget-view+json": {
       "model_id": "",
       "version_major": 2,
       "version_minor": 0
      },
      "text/plain": [
       "VBox(children=(Label(value=' 0.00MB of 0.00MB uploaded (0.00MB deduped)\\r'), FloatProgress(value=1.0, max=1.0)…"
      ]
     },
     "metadata": {},
     "output_type": "display_data"
    },
    {
     "data": {
      "text/html": [
       "<style>\n",
       "    table.wandb td:nth-child(1) { padding: 0 10px; text-align: right }\n",
       "    .wandb-row { display: flex; flex-direction: row; flex-wrap: wrap; width: 100% }\n",
       "    .wandb-col { display: flex; flex-direction: column; flex-basis: 100%; flex: 1; padding: 10px; }\n",
       "    </style>\n",
       "<div class=\"wandb-row\"><div class=\"wandb-col\">\n",
       "<h3>Run history:</h3><br/><table class=\"wandb\"><tr><td>loss</td><td>███▆▄▄▂▁▁▁▁▁▁▁▁▁▁▁▁▁▁▁▁▁▁▁▁▁▁▁▁▁▁▁▁▁▁▁▁▁</td></tr><tr><td>n_downsample</td><td>▁</td></tr><tr><td>n_search</td><td>▁</td></tr><tr><td>sst2_test:accuracy</td><td>▁</td></tr><tr><td>sst:val_acc</td><td>▁▇█▆██</td></tr></table><br/></div><div class=\"wandb-col\">\n",
       "<h3>Run summary:</h3><br/><table class=\"wandb\"><tr><td>indexes</td><td>[517, 882, 82, 341, ...</td></tr><tr><td>loss</td><td>0.00014</td></tr><tr><td>model_card</td><td>bert-base-cased</td></tr><tr><td>n_downsample</td><td>1000</td></tr><tr><td>n_search</td><td>100</td></tr><tr><td>sst2_test:accuracy</td><td>0.75928</td></tr><tr><td>sst:val_acc</td><td>0.78111</td></tr></table>\n",
       "</div></div>\n",
       "Synced 6 W&B file(s), 0 media file(s), 0 artifact file(s) and 0 other file(s)\n",
       "<br/>Synced <strong style=\"color:#cdcd00\">fearless-deluge-22053</strong>: <a href=\"https://wandb.ai/johntzwei/simulated_annealing-sst/runs/23a2i1x2\" target=\"_blank\">https://wandb.ai/johntzwei/simulated_annealing-sst/runs/23a2i1x2</a><br/>\n",
       "Find logs at: <code>./wandb/run-20220507_054012-23a2i1x2/logs</code><br/>\n"
      ],
      "text/plain": [
       "<IPython.core.display.HTML object>"
      ]
     },
     "metadata": {},
     "output_type": "display_data"
    },
    {
     "data": {
      "text/html": [
       "Successfully finished last run (ID:23a2i1x2). Initializing new run:<br/>"
      ],
      "text/plain": [
       "<IPython.core.display.HTML object>"
      ]
     },
     "metadata": {},
     "output_type": "display_data"
    },
    {
     "name": "stdout",
     "output_type": "stream",
     "text": [
      "huggingface/tokenizers: The current process just got forked, after parallelism has already been used. Disabling parallelism to avoid deadlocks...\n",
      "To disable this warning, you can either:\n",
      "\t- Avoid using `tokenizers` before the fork if possible\n",
      "\t- Explicitly set the environment variable TOKENIZERS_PARALLELISM=(true | false)\n"
     ]
    },
    {
     "name": "stderr",
     "output_type": "stream",
     "text": [
      "\u001b[34m\u001b[1mwandb\u001b[0m: wandb version 0.12.16 is available!  To upgrade, please run:\n",
      "\u001b[34m\u001b[1mwandb\u001b[0m:  $ pip install wandb --upgrade\n",
      "2022-05-07 05:43:57.411142: W tensorflow/stream_executor/platform/default/dso_loader.cc:64] Could not load dynamic library 'libcudart.so.11.0'; dlerror: libcudart.so.11.0: cannot open shared object file: No such file or directory; LD_LIBRARY_PATH: /usr/local/cuda-10.1/lib64\n",
      "2022-05-07 05:43:57.411181: I tensorflow/stream_executor/cuda/cudart_stub.cc:29] Ignore above cudart dlerror if you do not have a GPU set up on your machine.\n"
     ]
    },
    {
     "data": {
      "text/html": [
       "\n",
       "                    Syncing run <strong><a href=\"https://wandb.ai/johntzwei/simulated_annealing-sst/runs/2umqkubd\" target=\"_blank\">devout-energy-22054</a></strong> to <a href=\"https://wandb.ai/johntzwei/simulated_annealing-sst\" target=\"_blank\">Weights & Biases</a> (<a href=\"https://docs.wandb.com/integrations/jupyter.html\" target=\"_blank\">docs</a>).<br/>\n",
       "\n",
       "                "
      ],
      "text/plain": [
       "<IPython.core.display.HTML object>"
      ]
     },
     "metadata": {},
     "output_type": "display_data"
    },
    {
     "data": {
      "application/vnd.jupyter.widget-view+json": {
       "model_id": "a778c60c6f3546ee9d9586afd327dfee",
       "version_major": 2,
       "version_minor": 0
      },
      "text/plain": [
       "  0%|          | 0/6000 [00:00<?, ?it/s]"
      ]
     },
     "metadata": {},
     "output_type": "display_data"
    }
   ],
   "source": [
    "while True:\n",
    "    one_run()"
   ]
  }
 ],
 "metadata": {
  "celltoolbar": "Tags",
  "kernelspec": {
   "display_name": "Python 3 (ipykernel)",
   "language": "python",
   "name": "python3"
  },
  "language_info": {
   "codemirror_mode": {
    "name": "ipython",
    "version": 3
   },
   "file_extension": ".py",
   "mimetype": "text/x-python",
   "name": "python",
   "nbconvert_exporter": "python",
   "pygments_lexer": "ipython3",
   "version": "3.8.13"
  }
 },
 "nbformat": 4,
 "nbformat_minor": 5
}
