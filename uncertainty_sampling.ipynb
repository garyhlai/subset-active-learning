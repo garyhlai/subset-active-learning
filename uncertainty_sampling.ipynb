{
 "cells": [
  {
   "cell_type": "code",
   "execution_count": 1,
   "metadata": {},
   "outputs": [
    {
     "name": "stderr",
     "output_type": "stream",
     "text": [
      "/Users/garylai/Dev/subset-active-learning/.venv/lib/python3.8/site-packages/tqdm/auto.py:22: TqdmWarning: IProgress not found. Please update jupyter and ipywidgets. See https://ipywidgets.readthedocs.io/en/stable/user_install.html\n",
      "  from .autonotebook import tqdm as notebook_tqdm\n"
     ]
    }
   ],
   "source": [
    "from datasets import load_dataset, load_metric\n",
    "from dataclasses import dataclass\n",
    "from transformers import AutoTokenizer, AutoModelForSequenceClassification, TrainingArguments, Trainer, set_seed\n",
    "import numpy as np\n",
    "import torch\n",
    "from torch.utils.data import DataLoader\n",
    "import pickle\n",
    "from tqdm import tqdm"
   ]
  },
  {
   "cell_type": "code",
   "execution_count": 30,
   "metadata": {},
   "outputs": [],
   "source": [
    "def calculate_entropy(prob_dist):\n",
    "    \"\"\" \n",
    "    Returns raw entropy \n",
    "                \n",
    "    Keyword arguments:\n",
    "        prob_dist -- a pytorch tensor of real numbers between 0 and 1 that total to 1.0. e.g. tensor([0.0321, 0.6439, 0.0871, 0.2369])\n",
    "    \"\"\"\n",
    "    log_probs = prob_dist * torch.log2(prob_dist) # multiply each probability by its base 2 log\n",
    "    raw_entropy = 0 - torch.sum(log_probs, axis=-1)\n",
    "    return raw_entropy"
   ]
  },
  {
   "cell_type": "code",
   "execution_count": 3,
   "metadata": {},
   "outputs": [],
   "source": [
    "tokenizer = AutoTokenizer.from_pretrained(\"google/electra-small-discriminator\")\n",
    "\n",
    "def preprocess(data):\n",
    "    data = data.rename_column('label', 'scalar_label')\n",
    "    data = data.map(lambda x: {'label' : 0 if x['scalar_label'] < 0.5 else 1})\n",
    "\n",
    "    def tokenize_func(examples): \n",
    "        tokenized = tokenizer(\n",
    "            examples[\"sentence\"], padding=\"max_length\", max_length=config.max_length, truncation=True\n",
    "        )\n",
    "        tokenized[\"labels\"] = examples[\"label\"]\n",
    "        return tokenized\n",
    "\n",
    "    ds = data.map(\n",
    "        tokenize_func,\n",
    "        remove_columns=data.column_names,\n",
    "        batched=True,\n",
    "    )\n",
    "    ds.set_format(type=\"torch\")\n",
    "    return ds"
   ]
  },
  {
   "cell_type": "code",
   "execution_count": 4,
   "metadata": {},
   "outputs": [],
   "source": [
    "@dataclass(frozen=True)\n",
    "class Config:\n",
    "    max_length: int = 66\n",
    "    debug: bool = False\n",
    "    model_name: str = \"google/electra-small-discriminator\"\n",
    "    strategy: str = \"random_sampling\"\n",
    "    sampling_size: int = 1000\n",
    "    max_steps: int = 10000\n",
    "    batch_size: int = 8\n",
    "\n",
    "\n",
    "sampling_size = 1000\n",
    "config = Config(\n",
    "    max_length=66, debug=False, strategy=\"uncertainty_sampling\", sampling_size=sampling_size, max_steps=10000\n",
    ")"
   ]
  },
  {
   "cell_type": "code",
   "execution_count": 5,
   "metadata": {},
   "outputs": [
    {
     "name": "stderr",
     "output_type": "stream",
     "text": [
      "No config specified, defaulting to: sst/default\n",
      "Reusing dataset sst (/Users/garylai/.cache/huggingface/datasets/sst/default/1.0.0/b8a7889ef01c5d3ae8c379b84cc4080f8aad3ac2bc538701cbe0ac6416fb76ff)\n",
      "100%|██████████| 3/3 [00:00<00:00, 212.07it/s]\n",
      "Some weights of the model checkpoint at google/electra-small-discriminator were not used when initializing ElectraForSequenceClassification: ['discriminator_predictions.dense.bias', 'discriminator_predictions.dense_prediction.weight', 'discriminator_predictions.dense_prediction.bias', 'discriminator_predictions.dense.weight']\n",
      "- This IS expected if you are initializing ElectraForSequenceClassification from the checkpoint of a model trained on another task or with another architecture (e.g. initializing a BertForSequenceClassification model from a BertForPreTraining model).\n",
      "- This IS NOT expected if you are initializing ElectraForSequenceClassification from the checkpoint of a model that you expect to be exactly identical (initializing a BertForSequenceClassification model from a BertForSequenceClassification model).\n",
      "Some weights of ElectraForSequenceClassification were not initialized from the model checkpoint at google/electra-small-discriminator and are newly initialized: ['classifier.dense.weight', 'classifier.dense.bias', 'classifier.out_proj.bias', 'classifier.out_proj.weight']\n",
      "You should probably TRAIN this model on a down-stream task to be able to use it for predictions and inference.\n",
      "Loading cached processed dataset at /Users/garylai/.cache/huggingface/datasets/sst/default/1.0.0/b8a7889ef01c5d3ae8c379b84cc4080f8aad3ac2bc538701cbe0ac6416fb76ff/cache-c6c7962a7d90e9c5.arrow\n",
      "Loading cached processed dataset at /Users/garylai/.cache/huggingface/datasets/sst/default/1.0.0/b8a7889ef01c5d3ae8c379b84cc4080f8aad3ac2bc538701cbe0ac6416fb76ff/cache-d541d5332269924c.arrow\n"
     ]
    }
   ],
   "source": [
    "############ set up data ############\n",
    "set_seed(42)\n",
    "sst2 = load_dataset(\"sst\")\n",
    "model = AutoModelForSequenceClassification.from_pretrained(config.model_name, num_labels=2)\n",
    "original_train_ds = preprocess(sst2[\"train\"])\n",
    "original_train_dl = DataLoader(original_train_ds, batch_size=config.batch_size, shuffle=False)"
   ]
  },
  {
   "cell_type": "code",
   "execution_count": 6,
   "metadata": {},
   "outputs": [
    {
     "name": "stderr",
     "output_type": "stream",
     "text": [
      "100%|██████████| 1068/1068 [04:09<00:00,  4.29it/s]\n"
     ]
    }
   ],
   "source": [
    "model.eval()\n",
    "with torch.no_grad():\n",
    "    preds = []\n",
    "    for batch in tqdm(original_train_dl):\n",
    "        out = model(**batch)\n",
    "        preds.append(out.logits)"
   ]
  },
  {
   "cell_type": "code",
   "execution_count": 104,
   "metadata": {},
   "outputs": [],
   "source": [
    "preds_tensor = torch.concat(preds)\n",
    "preds_tensor = torch.nn.functional.softmax(preds_tensor, dim=-1)\n",
    "entropys = calculate_entropy(preds_tensor)"
   ]
  },
  {
   "cell_type": "code",
   "execution_count": 113,
   "metadata": {},
   "outputs": [],
   "source": [
    "nan_percentage = torch.sum(torch.isnan(entropys))/len(entropys)\n",
    "assert int(nan_percentage) == 0"
   ]
  },
  {
   "cell_type": "code",
   "execution_count": 100,
   "metadata": {},
   "outputs": [],
   "source": [
    "# select samples based on highest entropy\n",
    "sampling_size = 3100\n",
    "selected_data = torch.topk(entropys, k=sampling_size)"
   ]
  }
 ],
 "metadata": {
  "interpreter": {
   "hash": "3e5b6cb28458d38a3a51ae1fcc17b14fe2e0ac931760af92f410b7c2c57674e6"
  },
  "kernelspec": {
   "display_name": "Python 3.8.13 ('.venv': poetry)",
   "language": "python",
   "name": "python3"
  },
  "language_info": {
   "codemirror_mode": {
    "name": "ipython",
    "version": 3
   },
   "file_extension": ".py",
   "mimetype": "text/x-python",
   "name": "python",
   "nbconvert_exporter": "python",
   "pygments_lexer": "ipython3",
   "version": "3.8.13"
  },
  "orig_nbformat": 4
 },
 "nbformat": 4,
 "nbformat_minor": 2
}
